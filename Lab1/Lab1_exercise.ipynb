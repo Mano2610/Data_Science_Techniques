{
  "nbformat": 4,
  "nbformat_minor": 0,
  "metadata": {
    "colab": {
      "name": "Lab1 exercise.ipynb",
      "provenance": [],
      "authorship_tag": "ABX9TyOTSgKaI+o0MpNMnda3M+kr",
      "include_colab_link": true
    },
    "kernelspec": {
      "name": "python3",
      "display_name": "Python 3"
    }
  },
  "cells": [
    {
      "cell_type": "markdown",
      "metadata": {
        "id": "view-in-github",
        "colab_type": "text"
      },
      "source": [
        "<a href=\"https://colab.research.google.com/github/Mano2610/CE888/blob/main/Lab1_exercise.ipynb\" target=\"_parent\"><img src=\"https://colab.research.google.com/assets/colab-badge.svg\" alt=\"Open In Colab\"/></a>"
      ]
    },
    {
      "cell_type": "code",
      "metadata": {
        "colab": {
          "base_uri": "https://localhost:8080/"
        },
        "id": "_MBuL8_m2NyB",
        "outputId": "7ede484b-8b8a-4918-d878-a4c6ab0750f5"
      },
      "source": [
        "import numpy as np\r\n",
        "def avg(marks):\r\n",
        "    sum = 0\r\n",
        "    for i in range(len(marks)):\r\n",
        "      sum = sum + marks[i]\r\n",
        "    av = sum / len(marks)\r\n",
        "    return av\r\n",
        "\r\n",
        "mark2 = [55,88,78,90,79]\r\n",
        "avg(mark2)"
      ],
      "execution_count": 6,
      "outputs": [
        {
          "output_type": "execute_result",
          "data": {
            "text/plain": [
              "78.0"
            ]
          },
          "metadata": {
            "tags": []
          },
          "execution_count": 6
        }
      ]
    },
    {
      "cell_type": "code",
      "metadata": {
        "id": "HW30H_9v22Sl"
      },
      "source": [
        "# Only run this cell to check your answer. If it is true then no error will be raised\r\n",
        "assert(avg(mark2) == np.mean(mark2))"
      ],
      "execution_count": 9,
      "outputs": []
    },
    {
      "cell_type": "code",
      "metadata": {
        "colab": {
          "base_uri": "https://localhost:8080/"
        },
        "id": "WLs8ZKf-28DO",
        "outputId": "454a9efd-db1b-4c2e-e419-153449810cb9"
      },
      "source": [
        "from math import pi # Use pi value from math package\r\n",
        "def areaCricle(radius):\r\n",
        "    ar = pi * radius * radius\r\n",
        "    ar = round(ar,2)\r\n",
        "    return ar\r\n",
        "\r\n",
        "areaCricle(10)"
      ],
      "execution_count": 17,
      "outputs": [
        {
          "output_type": "execute_result",
          "data": {
            "text/plain": [
              "314.16"
            ]
          },
          "metadata": {
            "tags": []
          },
          "execution_count": 17
        }
      ]
    },
    {
      "cell_type": "code",
      "metadata": {
        "id": "odtCmk8p3Xq8"
      },
      "source": [
        "# Only run this cell to check your answer. If it is true then no error will be raised\r\n",
        "assert(round(areaCricle(10),2) == 314.16)"
      ],
      "execution_count": 18,
      "outputs": []
    },
    {
      "cell_type": "code",
      "metadata": {
        "colab": {
          "base_uri": "https://localhost:8080/"
        },
        "id": "yjFsjSq_3mIs",
        "outputId": "8b3bc5b1-322d-41f2-d4bc-0e565289b57e"
      },
      "source": [
        "def reversed_list(in_list):\r\n",
        "    length = len(in_list)\r\n",
        "    new_list=[None]*length\r\n",
        "    for i in in_list:\r\n",
        "        length = length - 1\r\n",
        "        new_list[length] = i\r\n",
        "    return new_list\r\n",
        "    raise NotImplementedError()\r\n",
        "reversed_list([1, 2])"
      ],
      "execution_count": 27,
      "outputs": [
        {
          "output_type": "execute_result",
          "data": {
            "text/plain": [
              "[2, 1]"
            ]
          },
          "metadata": {
            "tags": []
          },
          "execution_count": 27
        }
      ]
    },
    {
      "cell_type": "code",
      "metadata": {
        "id": "rXZyd9Qq5-E6"
      },
      "source": [
        "# Only run this cell to check your answer. If it is true then no error will be raised\r\n",
        "assert(reversed_list([1, 2]) == [2, 1])"
      ],
      "execution_count": 36,
      "outputs": []
    },
    {
      "cell_type": "code",
      "metadata": {
        "id": "rD3qeTLntPtR"
      },
      "source": [
        ""
      ],
      "execution_count": null,
      "outputs": []
    },
    {
      "cell_type": "code",
      "metadata": {
        "colab": {
          "base_uri": "https://localhost:8080/"
        },
        "id": "bYmxpKLz6CN4",
        "outputId": "87460c23-9195-4fdc-f518-b89466fffa96"
      },
      "source": [
        "def bubble_sort(in_sort):\r\n",
        "    l = len(in_sort)\r\n",
        "    for i in range(l):\r\n",
        "      j = 0\r\n",
        "      count = 0\r\n",
        "      for j in range(l-1):\r\n",
        "        if in_sort[j+1] < in_sort[j] :\r\n",
        "          swap = in_sort[j+1]  \r\n",
        "          in_sort[j+1] = in_sort[j]\r\n",
        "          in_sort[j] = swap\r\n",
        "          count = count+1\r\n",
        "      print(i, \"iteration, count is \", count)\r\n",
        "      if count == 0:\r\n",
        "        break\r\n",
        "    return in_sort\r\n",
        "    raise NotImplementedError()\r\n",
        "bubble_sort([37, 42, 9, 19, 35, 4, 53, 22])"
      ],
      "execution_count": 22,
      "outputs": [
        {
          "output_type": "stream",
          "text": [
            "0 iteration, count is  5\n",
            "1 iteration, count is  5\n",
            "2 iteration, count is  2\n",
            "3 iteration, count is  2\n",
            "4 iteration, count is  1\n",
            "5 iteration, count is  0\n"
          ],
          "name": "stdout"
        },
        {
          "output_type": "execute_result",
          "data": {
            "text/plain": [
              "[4, 9, 19, 22, 35, 37, 42, 53]"
            ]
          },
          "metadata": {
            "tags": []
          },
          "execution_count": 22
        }
      ]
    },
    {
      "cell_type": "code",
      "metadata": {
        "colab": {
          "base_uri": "https://localhost:8080/"
        },
        "id": "BQhjqXKE-AO_",
        "outputId": "419c763d-0d42-4f48-927e-efe17e3b6961"
      },
      "source": [
        "# Only run this cell to check your answer. If it is true then no error will be raised\r\n",
        "assert(bubble_sort([37, 42, 9, 19, 35, 4, 53, 22]) == [4, 9, 19, 22, 35, 37, 42, 53])\r\n",
        "assert(bubble_sort([5, 4, 3, 2, 1]) == [1, 2, 3, 4, 5])"
      ],
      "execution_count": 23,
      "outputs": [
        {
          "output_type": "stream",
          "text": [
            "0 iteration, count is  5\n",
            "1 iteration, count is  5\n",
            "2 iteration, count is  2\n",
            "3 iteration, count is  2\n",
            "4 iteration, count is  1\n",
            "5 iteration, count is  0\n",
            "0 iteration, count is  4\n",
            "1 iteration, count is  3\n",
            "2 iteration, count is  2\n",
            "3 iteration, count is  1\n",
            "4 iteration, count is  0\n"
          ],
          "name": "stdout"
        }
      ]
    },
    {
      "cell_type": "code",
      "metadata": {
        "colab": {
          "base_uri": "https://localhost:8080/"
        },
        "id": "vV5UC9Nt_LfO",
        "outputId": "c4d38e67-3a30-4a23-973e-28df49baf814"
      },
      "source": [
        "def Fibonacci(n):\r\n",
        "  a = 0\r\n",
        "  b = 1\r\n",
        "  if n==1:\r\n",
        "    return 0\r\n",
        "  if n==2:\r\n",
        "    return 1\r\n",
        "  if(n>2):\r\n",
        "    for i in range(n-2):\r\n",
        "      ans = a+b\r\n",
        "      a = b\r\n",
        "      b = ans\r\n",
        "  return ans\r\n",
        "  raise NotImplementedError()\r\n",
        "\r\n",
        "Fibonacci(9)"
      ],
      "execution_count": 25,
      "outputs": [
        {
          "output_type": "execute_result",
          "data": {
            "text/plain": [
              "21"
            ]
          },
          "metadata": {
            "tags": []
          },
          "execution_count": 25
        }
      ]
    },
    {
      "cell_type": "code",
      "metadata": {
        "id": "tI3fHjXhoAAR"
      },
      "source": [
        "# Only run this cell to check your answer. If it is true then no error will be raised\r\n",
        "assert(Fibonacci(7) == 8)\r\n",
        "assert(Fibonacci(9) == 21)"
      ],
      "execution_count": 26,
      "outputs": []
    },
    {
      "cell_type": "code",
      "metadata": {
        "id": "1c11xf6jq2YG"
      },
      "source": [
        ""
      ],
      "execution_count": null,
      "outputs": []
    }
  ]
}
