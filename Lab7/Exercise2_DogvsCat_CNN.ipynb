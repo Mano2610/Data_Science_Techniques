{
  "nbformat": 4,
  "nbformat_minor": 0,
  "metadata": {
    "accelerator": "GPU",
    "colab": {
      "name": "Exercise2_DogvsCat_CNN.ipynb",
      "provenance": [],
      "include_colab_link": true
    },
    "kernelspec": {
      "display_name": "Python 3",
      "name": "python3"
    }
  },
  "cells": [
    {
      "cell_type": "markdown",
      "metadata": {
        "id": "view-in-github",
        "colab_type": "text"
      },
      "source": [
        "<a href=\"https://colab.research.google.com/github/Mano2610/CE888/blob/main/Lab/Lab7/Exercise2_DogvsCat_CNN.ipynb\" target=\"_parent\"><img src=\"https://colab.research.google.com/assets/colab-badge.svg\" alt=\"Open In Colab\"/></a>"
      ]
    },
    {
      "cell_type": "markdown",
      "metadata": {
        "id": "qTh9DiKVslsJ"
      },
      "source": [
        "## Dogs vs. Cats \n",
        "\n",
        "In this competition, you'll write an algorithm to classify whether images contain either a dog or a cat.  This is easy for humans, dogs, and cats. Your computer will find it a bit more difficult.\n",
        "\n",
        "![alt text](https://miro.medium.com/max/3000/1*bhFifratH9DjKqMBTeQG5A.gif)\n",
        "\n",
        "Ref: https://medium.com/@thegrigorian/rolling-in-the-deep-cnn-c8d3f7108c8c"
      ]
    },
    {
      "cell_type": "markdown",
      "metadata": {
        "id": "RSBI-_mSSY1g"
      },
      "source": [
        "Get your API Key from Kaggle using following steps:\n",
        "1. Login to [Kaggle](https://www.kaggle.com/) or Register if you don't have account\n",
        "2. Open Dataset (https://www.kaggle.com/c/dogs-vs-cats/rules) and accept terms and condition. \n",
        "3. On the top right corner click on your Icon and go to accounts and press a button \"Create New API Token\". It will download a JSON file containing your username and key. \n",
        "4. Now, paste both below. \n"
      ]
    },
    {
      "cell_type": "code",
      "metadata": {
        "colab": {
          "base_uri": "https://localhost:8080/"
        },
        "id": "YmXSOc0tZIGA",
        "outputId": "db5d069d-6785-4709-ed53-115c621073ea"
      },
      "source": [
        "import os\n",
        "os.environ['KAGGLE_USERNAME'] = \"mano26\" # username from the json file\n",
        "os.environ['KAGGLE_KEY'] = \"168e5a5fe299b3f06ba50156499f3d23\" # key from the json file\n",
        "!kaggle competitions download -c dogs-vs-cats # api copied from kaggle (https://www.kaggle.com/c/dogs-vs-cats/data)\n"
      ],
      "execution_count": null,
      "outputs": [
        {
          "output_type": "stream",
          "text": [
            "Warning: Looks like you're using an outdated API Version, please consider updating (server 1.5.12 / client 1.5.4)\n",
            "test1.zip: Skipping, found more recently modified local copy (use --force to force download)\n",
            "sampleSubmission.csv: Skipping, found more recently modified local copy (use --force to force download)\n",
            "train.zip: Skipping, found more recently modified local copy (use --force to force download)\n"
          ],
          "name": "stdout"
        }
      ]
    },
    {
      "cell_type": "code",
      "metadata": {
        "colab": {
          "base_uri": "https://localhost:8080/"
        },
        "id": "PiwIL8d1n7eS",
        "outputId": "b7371fda-1e35-4df9-910b-e283784ec8c4"
      },
      "source": [
        "# Unzip training data\n",
        "from zipfile import ZipFile\n",
        "file_name = \"/content/train.zip\"\n",
        "with ZipFile(file_name, 'r') as zip:\n",
        "  zip.extractall()\n",
        "  print('done')"
      ],
      "execution_count": null,
      "outputs": [
        {
          "output_type": "stream",
          "text": [
            "done\n"
          ],
          "name": "stdout"
        }
      ]
    },
    {
      "cell_type": "code",
      "metadata": {
        "colab": {
          "base_uri": "https://localhost:8080/"
        },
        "id": "sa2Bj5i7pPKV",
        "outputId": "7f40405b-dab0-4c6c-d044-0b013909e293"
      },
      "source": [
        "# Get all the paths\n",
        "data_dir_list = os.listdir('/content/train')\n",
        "#print(data_dir_list)\n",
        "path, dirs, files = next(os.walk(\"/content/train\"))\n",
        "file_count = len(files)\n",
        "print(file_count)"
      ],
      "execution_count": null,
      "outputs": [
        {
          "output_type": "stream",
          "text": [
            "25000\n"
          ],
          "name": "stdout"
        }
      ]
    },
    {
      "cell_type": "code",
      "metadata": {
        "id": "0ERlHkfHqpK8"
      },
      "source": [
        "# Make new base directory\n",
        "original_dataset_dir = '/content/train'\n",
        "base_dir = '/content/cats_and_dogs_small'\n",
        "os.mkdir(base_dir)"
      ],
      "execution_count": null,
      "outputs": []
    },
    {
      "cell_type": "code",
      "metadata": {
        "id": "AANB1UJ6rQhM"
      },
      "source": [
        "train_dir = os.path.join(base_dir, 'train')\n",
        "os.mkdir(train_dir)\n",
        "\n",
        "validation_dir = os.path.join(base_dir, 'validation')\n",
        "os.mkdir(validation_dir)\n",
        "\n",
        "test_dir = os.path.join(base_dir, 'test')\n",
        "os.mkdir(test_dir)\n",
        "\n",
        "train_cats_dir = os.path.join(train_dir, 'cats')\n",
        "os.mkdir(train_cats_dir)\n",
        "\n",
        "train_dogs_dir = os.path.join(train_dir, 'dogs')\n",
        "os.mkdir(train_dogs_dir)\n",
        "\n",
        "validation_cats_dir = os.path.join(validation_dir, 'cats')\n",
        "os.mkdir(validation_cats_dir)\n",
        "\n",
        "validation_dogs_dir = os.path.join(validation_dir, 'dogs')\n",
        "os.mkdir(validation_dogs_dir)\n",
        "\n",
        "test_cats_dir = os.path.join(test_dir, 'cats')\n",
        "os.mkdir(test_cats_dir)\n",
        "\n",
        "test_dogs_dir = os.path.join(test_dir, 'dogs')\n",
        "os.mkdir(test_dogs_dir)"
      ],
      "execution_count": null,
      "outputs": []
    },
    {
      "cell_type": "code",
      "metadata": {
        "id": "ULRgL9s9rV8T"
      },
      "source": [
        "import shutil\n",
        "fnames = ['cat.{}.jpg'.format(i) for i in range(1000)]\n",
        "for fname in fnames:\n",
        "    src = os.path.join(original_dataset_dir, fname)\n",
        "    dst = os.path.join(train_cats_dir, fname)\n",
        "    #print(src,dst)\n",
        "    shutil.copyfile(src, dst)\n",
        "    \n",
        "fnames = ['cat.{}.jpg'.format(i) for i in range(1000, 1500)]\n",
        "for fname in fnames:\n",
        "    src = os.path.join(original_dataset_dir, fname)\n",
        "    dst = os.path.join(validation_cats_dir, fname)\n",
        "    shutil.copyfile(src, dst)\n",
        "\n",
        "fnames = ['cat.{}.jpg'.format(i) for i in range(1500, 2000)]\n",
        "for fname in fnames:\n",
        "    src = os.path.join(original_dataset_dir, fname)\n",
        "    dst = os.path.join(test_cats_dir, fname)\n",
        "    shutil.copyfile(src, dst)\n",
        "    \n",
        "fnames = ['dog.{}.jpg'.format(i) for i in range(1000)]\n",
        "for fname in fnames:\n",
        "    src = os.path.join(original_dataset_dir, fname)\n",
        "    dst = os.path.join(train_dogs_dir, fname)\n",
        "    shutil.copyfile(src, dst)\n",
        "\n",
        "fnames = ['dog.{}.jpg'.format(i) for i in range(1000, 1500)]\n",
        "for fname in fnames:\n",
        "    src = os.path.join(original_dataset_dir, fname)\n",
        "    dst = os.path.join(validation_dogs_dir, fname)\n",
        "    shutil.copyfile(src, dst)\n",
        "\n",
        "fnames = ['dog.{}.jpg'.format(i) for i in range(1500, 2000)]\n",
        "for fname in fnames:\n",
        "    src = os.path.join(original_dataset_dir, fname)\n",
        "    dst = os.path.join(test_dogs_dir, fname)\n",
        "    shutil.copyfile(src, dst)"
      ],
      "execution_count": null,
      "outputs": []
    },
    {
      "cell_type": "code",
      "metadata": {
        "colab": {
          "base_uri": "https://localhost:8080/"
        },
        "id": "ul3XAbIyr7vC",
        "outputId": "eee73745-63e8-44b9-d13a-af6c84eb3414"
      },
      "source": [
        "print('total training cat images:', len(os.listdir(train_cats_dir)))\n",
        "print('total training dog images:', len(os.listdir(train_dogs_dir)))\n",
        "print('total validation cat images:', len(os.listdir(validation_cats_dir)))\n",
        "\n",
        "print('total validation dog images:', len(os.listdir(validation_dogs_dir)))\n",
        "print('total test cat images:', len(os.listdir(test_cats_dir)))\n",
        "print('total test dog images:', len(os.listdir(test_dogs_dir)))"
      ],
      "execution_count": null,
      "outputs": [
        {
          "output_type": "stream",
          "text": [
            "total training cat images: 1000\n",
            "total training dog images: 1000\n",
            "total validation cat images: 500\n",
            "total validation dog images: 500\n",
            "total test cat images: 500\n",
            "total test dog images: 500\n"
          ],
          "name": "stdout"
        }
      ]
    },
    {
      "cell_type": "code",
      "metadata": {
        "colab": {
          "base_uri": "https://localhost:8080/"
        },
        "id": "o9yTA21_r-ma",
        "outputId": "f861b131-5635-4d23-b7c9-838a9ffeaf79"
      },
      "source": [
        "from keras import layers\n",
        "from keras import models\n",
        "\n",
        "model = models.Sequential()\n",
        "model.add(layers.Conv2D(32, (3, 3), activation='relu', input_shape=(150, 150, 3)))\n",
        "model.add(layers.MaxPooling2D((2, 2)))\n",
        "model.add(layers.Conv2D(64, (3, 3), activation='relu'))\n",
        "model.add(layers.MaxPooling2D((2, 2)))\n",
        "model.add(layers.Conv2D(128, (3, 3), activation='relu'))\n",
        "model.add(layers.MaxPooling2D((2, 2)))\n",
        "model.add(layers.Conv2D(128, (3, 3), activation='relu'))\n",
        "model.add(layers.MaxPooling2D((2, 2)))\n",
        "model.add(layers.Flatten())\n",
        "model.add(layers.Dense(512, activation='relu'))\n",
        "model.add(layers.Dense(1, activation='sigmoid'))\n",
        "model.summary()"
      ],
      "execution_count": null,
      "outputs": [
        {
          "output_type": "stream",
          "text": [
            "Model: \"sequential\"\n",
            "_________________________________________________________________\n",
            "Layer (type)                 Output Shape              Param #   \n",
            "=================================================================\n",
            "conv2d (Conv2D)              (None, 148, 148, 32)      896       \n",
            "_________________________________________________________________\n",
            "max_pooling2d (MaxPooling2D) (None, 74, 74, 32)        0         \n",
            "_________________________________________________________________\n",
            "conv2d_1 (Conv2D)            (None, 72, 72, 64)        18496     \n",
            "_________________________________________________________________\n",
            "max_pooling2d_1 (MaxPooling2 (None, 36, 36, 64)        0         \n",
            "_________________________________________________________________\n",
            "conv2d_2 (Conv2D)            (None, 34, 34, 128)       73856     \n",
            "_________________________________________________________________\n",
            "max_pooling2d_2 (MaxPooling2 (None, 17, 17, 128)       0         \n",
            "_________________________________________________________________\n",
            "conv2d_3 (Conv2D)            (None, 15, 15, 128)       147584    \n",
            "_________________________________________________________________\n",
            "max_pooling2d_3 (MaxPooling2 (None, 7, 7, 128)         0         \n",
            "_________________________________________________________________\n",
            "flatten (Flatten)            (None, 6272)              0         \n",
            "_________________________________________________________________\n",
            "dense (Dense)                (None, 512)               3211776   \n",
            "_________________________________________________________________\n",
            "dense_1 (Dense)              (None, 1)                 513       \n",
            "=================================================================\n",
            "Total params: 3,453,121\n",
            "Trainable params: 3,453,121\n",
            "Non-trainable params: 0\n",
            "_________________________________________________________________\n"
          ],
          "name": "stdout"
        }
      ]
    },
    {
      "cell_type": "code",
      "metadata": {
        "id": "2mG8wekxsBVS"
      },
      "source": [
        "from keras import optimizers\n",
        "model.compile(loss='binary_crossentropy', \n",
        "              optimizer=optimizers.RMSprop(lr=1e-4),\n",
        "              metrics=['acc'])"
      ],
      "execution_count": null,
      "outputs": []
    },
    {
      "cell_type": "markdown",
      "metadata": {
        "id": "7zS4Klm8qWp6"
      },
      "source": [
        "## Using ImageDataGenerator to read images from directories\n",
        "As you know by now, data should be formatted into appropriately preprocessed floatingpoint tensors before being fed into the network. Currently, the data sits on a drive as JPEG files, so the steps for getting it into the network are roughly as follows:\n",
        "\n",
        "* Read the picture files.\n",
        "* Decode the JPEG content to RGB grids of pixels.\n",
        "* Convert these into floating-point tensors.\n",
        "* Rescale the pixel values (between 0 and 255) to the [0, 1] interval (as you know, neural networks prefer to deal with small input values).\n",
        "\n",
        "It may seem a bit daunting, but fortunately Keras has utilities to take care of these steps automatically. Keras has a module with image-processing helper tools, located at keras.preprocessing.image. In particular, it contains the class ImageDataGenerator,which lets you quickly set up Python generators that can automatically turn image files on disk into batches of preprocessed tensors."
      ]
    },
    {
      "cell_type": "code",
      "metadata": {
        "colab": {
          "base_uri": "https://localhost:8080/"
        },
        "id": "XJ7XU7t9sEh6",
        "outputId": "af639d18-0cea-4dd1-c58b-b51916e27312"
      },
      "source": [
        "from keras.preprocessing.image import ImageDataGenerator\n",
        "\n",
        "train_datagen = ImageDataGenerator(rescale=1./255)\n",
        "test_datagen = ImageDataGenerator(rescale=1./255)\n",
        "\n",
        "train_generator = train_datagen.flow_from_directory(train_dir,\n",
        "                                                    target_size=(150, 150), \n",
        "                                                    batch_size=20,\n",
        "                                                    class_mode='binary')\n",
        "\n",
        "validation_generator = test_datagen.flow_from_directory(validation_dir,\n",
        "                                                        target_size=(150, 150),\n",
        "                                                        batch_size=20,\n",
        "                                                        class_mode='binary')"
      ],
      "execution_count": null,
      "outputs": [
        {
          "output_type": "stream",
          "text": [
            "Found 2000 images belonging to 2 classes.\n",
            "Found 1000 images belonging to 2 classes.\n"
          ],
          "name": "stdout"
        }
      ]
    },
    {
      "cell_type": "markdown",
      "metadata": {
        "id": "SEgLywySqm4u"
      },
      "source": [
        "Let’s fit the model to the data using the generator. You do so using the fit_generator method, the equivalent of fit for data generators like this one. It expects as its first argument a Python generator that will yield batches of inputs and targets indefinitely,like this one does. Because the data is being generated endlessly, the Keras model needs to know how many samples to draw from the generator before declaring anepoch over. This is the role of the `steps_per_epoch` argument: after having drawn `steps_per_epoch` batches from the generator—that is, after having run for `steps_per_epoch` gradient descent steps—the fitting process will go to the next epoch. In this case, batches are 20 samples, so it will take 100 batches until you see your target of 2,000 samples.\n",
        "\n",
        "When using fit_generator, you can pass a validation_data argument, much as with the fit method. It’s important to note that this argument is allowed to be a data generator, but it could also be a tuple of Numpy arrays. If you pass a generator as validation_data, then this generator is expected to yield batches of validation data endlessly; thus you should also specify the validation_steps argument, which tells the process how many batches to draw from the validation generator for evaluation."
      ]
    },
    {
      "cell_type": "code",
      "metadata": {
        "colab": {
          "base_uri": "https://localhost:8080/"
        },
        "id": "yMyfPphJsJG6",
        "outputId": "a754c768-eff8-4e03-c2a6-f4fadc6fba1c"
      },
      "source": [
        "history = model.fit_generator(train_generator,\n",
        "                              steps_per_epoch=100,\n",
        "                              epochs=30,\n",
        "                              validation_data=validation_generator,\n",
        "                              validation_steps=10)"
      ],
      "execution_count": null,
      "outputs": [
        {
          "output_type": "stream",
          "text": [
            "/usr/local/lib/python3.7/dist-packages/tensorflow/python/keras/engine/training.py:1844: UserWarning: `Model.fit_generator` is deprecated and will be removed in a future version. Please use `Model.fit`, which supports generators.\n",
            "  warnings.warn('`Model.fit_generator` is deprecated and '\n"
          ],
          "name": "stderr"
        },
        {
          "output_type": "stream",
          "text": [
            "Epoch 1/30\n",
            "100/100 [==============================] - 40s 69ms/step - loss: 0.7032 - acc: 0.5034 - val_loss: 0.6756 - val_acc: 0.5450\n",
            "Epoch 2/30\n",
            "100/100 [==============================] - 7s 67ms/step - loss: 0.6681 - acc: 0.6046 - val_loss: 0.6672 - val_acc: 0.5950\n",
            "Epoch 3/30\n",
            "100/100 [==============================] - 7s 66ms/step - loss: 0.6283 - acc: 0.6691 - val_loss: 0.6637 - val_acc: 0.5850\n",
            "Epoch 4/30\n",
            "100/100 [==============================] - 7s 65ms/step - loss: 0.5894 - acc: 0.6862 - val_loss: 0.6151 - val_acc: 0.6700\n",
            "Epoch 5/30\n",
            "100/100 [==============================] - 7s 67ms/step - loss: 0.5459 - acc: 0.7080 - val_loss: 0.6164 - val_acc: 0.6550\n",
            "Epoch 6/30\n",
            "100/100 [==============================] - 7s 66ms/step - loss: 0.5174 - acc: 0.7449 - val_loss: 0.5336 - val_acc: 0.7550\n",
            "Epoch 7/30\n",
            "100/100 [==============================] - 7s 66ms/step - loss: 0.4836 - acc: 0.7643 - val_loss: 0.5463 - val_acc: 0.7250\n",
            "Epoch 8/30\n",
            "100/100 [==============================] - 7s 66ms/step - loss: 0.4495 - acc: 0.7839 - val_loss: 0.5644 - val_acc: 0.7350\n",
            "Epoch 9/30\n",
            "100/100 [==============================] - 7s 67ms/step - loss: 0.4292 - acc: 0.8138 - val_loss: 0.5859 - val_acc: 0.7250\n",
            "Epoch 10/30\n",
            "100/100 [==============================] - 7s 67ms/step - loss: 0.3968 - acc: 0.8285 - val_loss: 0.6250 - val_acc: 0.6850\n",
            "Epoch 11/30\n",
            "100/100 [==============================] - 7s 66ms/step - loss: 0.3654 - acc: 0.8429 - val_loss: 0.5644 - val_acc: 0.7450\n",
            "Epoch 12/30\n",
            "100/100 [==============================] - 7s 66ms/step - loss: 0.3621 - acc: 0.8396 - val_loss: 0.5046 - val_acc: 0.7600\n",
            "Epoch 13/30\n",
            "100/100 [==============================] - 7s 66ms/step - loss: 0.3187 - acc: 0.8740 - val_loss: 0.6012 - val_acc: 0.7050\n",
            "Epoch 14/30\n",
            "100/100 [==============================] - 7s 67ms/step - loss: 0.2935 - acc: 0.8737 - val_loss: 0.5923 - val_acc: 0.7400\n",
            "Epoch 15/30\n",
            "100/100 [==============================] - 7s 66ms/step - loss: 0.2713 - acc: 0.8975 - val_loss: 0.5806 - val_acc: 0.7650\n",
            "Epoch 16/30\n",
            "100/100 [==============================] - 7s 67ms/step - loss: 0.2456 - acc: 0.9005 - val_loss: 0.7315 - val_acc: 0.6850\n",
            "Epoch 17/30\n",
            "100/100 [==============================] - 7s 66ms/step - loss: 0.2218 - acc: 0.9196 - val_loss: 0.5877 - val_acc: 0.7000\n",
            "Epoch 18/30\n",
            "100/100 [==============================] - 7s 66ms/step - loss: 0.1939 - acc: 0.9249 - val_loss: 0.6549 - val_acc: 0.7000\n",
            "Epoch 19/30\n",
            "100/100 [==============================] - 7s 66ms/step - loss: 0.1760 - acc: 0.9320 - val_loss: 0.5684 - val_acc: 0.7550\n",
            "Epoch 20/30\n",
            "100/100 [==============================] - 7s 67ms/step - loss: 0.1769 - acc: 0.9352 - val_loss: 0.6890 - val_acc: 0.7350\n",
            "Epoch 21/30\n",
            "100/100 [==============================] - 7s 66ms/step - loss: 0.1365 - acc: 0.9516 - val_loss: 0.8276 - val_acc: 0.7250\n",
            "Epoch 22/30\n",
            "100/100 [==============================] - 7s 66ms/step - loss: 0.1376 - acc: 0.9506 - val_loss: 0.6570 - val_acc: 0.7300\n",
            "Epoch 23/30\n",
            "100/100 [==============================] - 7s 67ms/step - loss: 0.1103 - acc: 0.9703 - val_loss: 0.8621 - val_acc: 0.7550\n",
            "Epoch 24/30\n",
            "100/100 [==============================] - 7s 66ms/step - loss: 0.1061 - acc: 0.9614 - val_loss: 0.7602 - val_acc: 0.7450\n",
            "Epoch 25/30\n",
            "100/100 [==============================] - 7s 67ms/step - loss: 0.0694 - acc: 0.9819 - val_loss: 0.9599 - val_acc: 0.6950\n",
            "Epoch 26/30\n",
            "100/100 [==============================] - 7s 66ms/step - loss: 0.0685 - acc: 0.9823 - val_loss: 0.9346 - val_acc: 0.7000\n",
            "Epoch 27/30\n",
            "100/100 [==============================] - 7s 65ms/step - loss: 0.0564 - acc: 0.9904 - val_loss: 0.7891 - val_acc: 0.7350\n",
            "Epoch 28/30\n",
            "100/100 [==============================] - 7s 65ms/step - loss: 0.0581 - acc: 0.9860 - val_loss: 0.7945 - val_acc: 0.7750\n",
            "Epoch 29/30\n",
            "100/100 [==============================] - 7s 66ms/step - loss: 0.0382 - acc: 0.9931 - val_loss: 0.9839 - val_acc: 0.7150\n",
            "Epoch 30/30\n",
            "100/100 [==============================] - 7s 66ms/step - loss: 0.0339 - acc: 0.9884 - val_loss: 0.9673 - val_acc: 0.7350\n"
          ],
          "name": "stdout"
        }
      ]
    },
    {
      "cell_type": "code",
      "metadata": {
        "colab": {
          "base_uri": "https://localhost:8080/",
          "height": 545
        },
        "id": "MZaZ2HWZsNUi",
        "outputId": "792f059f-8f10-4bf9-8366-5fd29dc1d428"
      },
      "source": [
        "model.save('cats_and_dogs_small_1.h5')\n",
        "\n",
        "import matplotlib.pyplot as plt\n",
        "\n",
        "acc = history.history['acc']\n",
        "val_acc = history.history['val_acc']\n",
        "loss = history.history['loss']\n",
        "val_loss = history.history['val_loss']\n",
        "\n",
        "epochs = range(1, len(acc) + 1)\n",
        "\n",
        "plt.plot(epochs, acc, 'bo', label='Training acc')\n",
        "plt.plot(epochs, val_acc, 'b', label='Validation acc')\n",
        "plt.title('Training and validation accuracy')\n",
        "plt.legend()\n",
        "\n",
        "plt.figure()\n",
        "\n",
        "plt.plot(epochs, loss, 'bo', label='Training loss')\n",
        "plt.plot(epochs, val_loss, 'b', label='Validation loss')\n",
        "plt.title('Training and validation loss')\n",
        "plt.legend()\n",
        "\n",
        "plt.show()"
      ],
      "execution_count": null,
      "outputs": [
        {
          "output_type": "display_data",
          "data": {
            "image/png": "[encoded data removed]",
            "text/plain": [
              "<Figure size 432x288 with 1 Axes>"
            ]
          },
          "metadata": {
            "tags": []
          }
        },
        {
          "output_type": "display_data",
          "data": {
            "image/png": "[encoded data removed]",
            "text/plain": [
              "<Figure size 432x288 with 1 Axes>"
            ]
          },
          "metadata": {
            "tags": []
          }
        }
      ]
    },
    {
      "cell_type": "markdown",
      "metadata": {
        "id": "XKZmXmBcq_8-"
      },
      "source": [
        "## Convolutional Networks with Dropout\n",
        "\n",
        "![alt text](https://camo.githubusercontent.com/ee6fa1073247cd2c3d241300caf110d7a7541bc5/68747470733a2f2f63646e2d696d616765732d312e6d656469756d2e636f6d2f6d61782f3830302f312a4972644a355067684439596f4f7956415137334d4a772e676966)\n",
        "\n",
        "Ref: https://github.com/mneha4/Training-Neural-Nets---Guidelines"
      ]
    },
    {
      "cell_type": "code",
      "metadata": {
        "id": "wu3cqeYQrDeN"
      },
      "source": [
        "model = models.Sequential()\n",
        "model.add(layers.Conv2D(32, (3, 3), activation='relu',\n",
        "input_shape=(150, 150, 3)))\n",
        "model.add(layers.MaxPooling2D((2, 2)))\n",
        "model.add(layers.Conv2D(64, (3, 3), activation='relu'))\n",
        "model.add(layers.MaxPooling2D((2, 2)))\n",
        "model.add(layers.Conv2D(128, (3, 3), activation='relu'))\n",
        "model.add(layers.MaxPooling2D((2, 2)))\n",
        "model.add(layers.Conv2D(128, (3, 3), activation='relu'))\n",
        "model.add(layers.MaxPooling2D((2, 2)))\n",
        "model.add(layers.Flatten())\n",
        "model.add(layers.Dropout(0.5))\n",
        "model.add(layers.Dense(512, activation='relu'))\n",
        "model.add(layers.Dense(1, activation='sigmoid'))\n",
        "\n",
        "model.compile(loss='binary_crossentropy',\n",
        "              optimizer=optimizers.RMSprop(lr=1e-4),\n",
        "              metrics=['acc'])"
      ],
      "execution_count": null,
      "outputs": []
    },
    {
      "cell_type": "code",
      "metadata": {
        "colab": {
          "base_uri": "https://localhost:8080/"
        },
        "id": "QSeLpvY0rH7F",
        "outputId": "ea454430-23e7-41dd-9579-f3e936b2041f"
      },
      "source": [
        "\n",
        "train_datagen = ImageDataGenerator(rescale=1./255,\n",
        "                                   rotation_range=40,\n",
        "                                   width_shift_range=0.2,\n",
        "                                   height_shift_range=0.2,\n",
        "                                   shear_range=0.2,\n",
        "                                   zoom_range=0.2,\n",
        "                                   horizontal_flip=True,)\n",
        "\n",
        "test_datagen = ImageDataGenerator(rescale=1./255)\n",
        "\n",
        "train_generator = train_datagen.flow_from_directory(train_dir,\n",
        "                                                    target_size=(150, 150),\n",
        "                                                    batch_size=20,\n",
        "                                                    class_mode='binary')\n",
        "\n",
        "validation_generator = test_datagen.flow_from_directory(validation_dir,\n",
        "                                                        target_size=(150, 150),\n",
        "                                                        batch_size=20,\n",
        "                                                        class_mode='binary')\n",
        "\n",
        "history = model.fit_generator(train_generator,\n",
        "                              steps_per_epoch=100,\n",
        "                              epochs=20,\n",
        "                              validation_data=validation_generator,\n",
        "                              validation_steps=50)"
      ],
      "execution_count": null,
      "outputs": [
        {
          "output_type": "stream",
          "text": [
            "Found 2000 images belonging to 2 classes.\n",
            "Found 1000 images belonging to 2 classes.\n"
          ],
          "name": "stdout"
        },
        {
          "output_type": "stream",
          "text": [
            "/usr/local/lib/python3.7/dist-packages/tensorflow/python/keras/engine/training.py:1844: UserWarning: `Model.fit_generator` is deprecated and will be removed in a future version. Please use `Model.fit`, which supports generators.\n",
            "  warnings.warn('`Model.fit_generator` is deprecated and '\n"
          ],
          "name": "stderr"
        },
        {
          "output_type": "stream",
          "text": [
            "Epoch 1/20\n",
            "100/100 [==============================] - 17s 170ms/step - loss: 0.5729 - acc: 0.7055 - val_loss: 0.5921 - val_acc: 0.6500\n",
            "Epoch 2/20\n",
            "100/100 [==============================] - 17s 170ms/step - loss: 0.5767 - acc: 0.6990 - val_loss: 0.6151 - val_acc: 0.6370\n",
            "Epoch 3/20\n",
            "100/100 [==============================] - 17s 170ms/step - loss: 0.5611 - acc: 0.7140 - val_loss: 0.5195 - val_acc: 0.7510\n",
            "Epoch 4/20\n",
            "100/100 [==============================] - 17s 171ms/step - loss: 0.5639 - acc: 0.7105 - val_loss: 0.5411 - val_acc: 0.7160\n",
            "Epoch 5/20\n",
            "100/100 [==============================] - 17s 170ms/step - loss: 0.5525 - acc: 0.7185 - val_loss: 0.5055 - val_acc: 0.7510\n",
            "Epoch 6/20\n",
            "100/100 [==============================] - 17s 170ms/step - loss: 0.5458 - acc: 0.7345 - val_loss: 0.5208 - val_acc: 0.7350\n",
            "Epoch 7/20\n",
            "100/100 [==============================] - 17s 169ms/step - loss: 0.5346 - acc: 0.7275 - val_loss: 0.5137 - val_acc: 0.7400\n",
            "Epoch 8/20\n",
            "100/100 [==============================] - 17s 171ms/step - loss: 0.5466 - acc: 0.7290 - val_loss: 0.5348 - val_acc: 0.7430\n",
            "Epoch 9/20\n",
            "100/100 [==============================] - 17s 171ms/step - loss: 0.5433 - acc: 0.7210 - val_loss: 0.5055 - val_acc: 0.7460\n",
            "Epoch 10/20\n",
            "100/100 [==============================] - 17s 172ms/step - loss: 0.5373 - acc: 0.7315 - val_loss: 0.5228 - val_acc: 0.7280\n",
            "Epoch 11/20\n",
            "100/100 [==============================] - 17s 170ms/step - loss: 0.5316 - acc: 0.7355 - val_loss: 0.6245 - val_acc: 0.7030\n",
            "Epoch 12/20\n",
            "100/100 [==============================] - 17s 170ms/step - loss: 0.5169 - acc: 0.7405 - val_loss: 0.4810 - val_acc: 0.7690\n",
            "Epoch 13/20\n",
            "100/100 [==============================] - 17s 171ms/step - loss: 0.5186 - acc: 0.7540 - val_loss: 0.4874 - val_acc: 0.7510\n",
            "Epoch 14/20\n",
            "100/100 [==============================] - 17s 171ms/step - loss: 0.5202 - acc: 0.7475 - val_loss: 0.4708 - val_acc: 0.7750\n",
            "Epoch 15/20\n",
            "100/100 [==============================] - 17s 172ms/step - loss: 0.5133 - acc: 0.7550 - val_loss: 0.4783 - val_acc: 0.7630\n",
            "Epoch 16/20\n",
            "100/100 [==============================] - 17s 170ms/step - loss: 0.4952 - acc: 0.7585 - val_loss: 0.4699 - val_acc: 0.7750\n",
            "Epoch 17/20\n",
            "100/100 [==============================] - 17s 171ms/step - loss: 0.5066 - acc: 0.7565 - val_loss: 0.4936 - val_acc: 0.7670\n",
            "Epoch 18/20\n",
            "100/100 [==============================] - 17s 170ms/step - loss: 0.5077 - acc: 0.7545 - val_loss: 0.4790 - val_acc: 0.7710\n",
            "Epoch 19/20\n",
            "100/100 [==============================] - 17s 172ms/step - loss: 0.5005 - acc: 0.7620 - val_loss: 0.5208 - val_acc: 0.7270\n",
            "Epoch 20/20\n",
            "100/100 [==============================] - 17s 171ms/step - loss: 0.4919 - acc: 0.7640 - val_loss: 0.4998 - val_acc: 0.7570\n"
          ],
          "name": "stdout"
        }
      ]
    },
    {
      "cell_type": "markdown",
      "metadata": {
        "id": "BRdU5yrkUF_b"
      },
      "source": [
        "# Task 2:\n",
        "\n",
        "We have used Dropout to enhance the performance of the CNN model. Can you please use whatever you like to further enhance the performance from `val_acc: 0.7506`? "
      ]
    },
    {
      "cell_type": "code",
      "metadata": {
        "colab": {
          "base_uri": "https://localhost:8080/"
        },
        "id": "4pDM2-V8-f73",
        "outputId": "2802e78e-3184-40b3-e994-838516171565"
      },
      "source": [
        "model = models.Sequential()\n",
        "model.add(layers.Conv2D(32, (3, 3), activation='relu', input_shape=(150, 150, 3)))\n",
        "model.add(layers.MaxPooling2D((2, 2)))\n",
        "model.add(layers.Conv2D(64, (3, 3), activation='relu'))\n",
        "model.add(layers.MaxPooling2D((2, 2)))\n",
        "model.add(layers.Conv2D(128, (3, 3), activation='relu'))\n",
        "model.add(layers.MaxPooling2D((2, 2)))\n",
        "model.add(layers.Conv2D(128, (3, 3), activation='relu'))\n",
        "model.add(layers.MaxPooling2D((2, 2)))\n",
        "model.add(layers.Flatten())\n",
        "model.add(layers.Dense(512, activation='relu'))\n",
        "model.add(layers.Dropout(0.1))\n",
        "model.add(layers.Dense(128, activation='relu'))\n",
        "model.add(layers.Dropout(0.2))\n",
        "model.add(layers.Dense(64, activation='relu'))\n",
        "model.add(layers.Dropout(0.5))\n",
        "model.add(layers.Dense(1, activation='sigmoid'))\n",
        "\n",
        "model.compile(loss='binary_crossentropy',\n",
        "#               optimizer=optimizers.Adam(0.00001),\n",
        "              optimizer=optimizers.RMSprop(lr=1e-4),\n",
        "              metrics=['acc'])\n",
        "print(model.summary())"
      ],
      "execution_count": null,
      "outputs": [
        {
          "output_type": "stream",
          "text": [
            "Model: \"sequential_4\"\n",
            "_________________________________________________________________\n",
            "Layer (type)                 Output Shape              Param #   \n",
            "=================================================================\n",
            "conv2d_16 (Conv2D)           (None, 148, 148, 32)      896       \n",
            "_________________________________________________________________\n",
            "max_pooling2d_16 (MaxPooling (None, 74, 74, 32)        0         \n",
            "_________________________________________________________________\n",
            "conv2d_17 (Conv2D)           (None, 72, 72, 64)        18496     \n",
            "_________________________________________________________________\n",
            "max_pooling2d_17 (MaxPooling (None, 36, 36, 64)        0         \n",
            "_________________________________________________________________\n",
            "conv2d_18 (Conv2D)           (None, 34, 34, 128)       73856     \n",
            "_________________________________________________________________\n",
            "max_pooling2d_18 (MaxPooling (None, 17, 17, 128)       0         \n",
            "_________________________________________________________________\n",
            "conv2d_19 (Conv2D)           (None, 15, 15, 128)       147584    \n",
            "_________________________________________________________________\n",
            "max_pooling2d_19 (MaxPooling (None, 7, 7, 128)         0         \n",
            "_________________________________________________________________\n",
            "flatten_4 (Flatten)          (None, 6272)              0         \n",
            "_________________________________________________________________\n",
            "dense_12 (Dense)             (None, 512)               3211776   \n",
            "_________________________________________________________________\n",
            "dropout_7 (Dropout)          (None, 512)               0         \n",
            "_________________________________________________________________\n",
            "dense_13 (Dense)             (None, 128)               65664     \n",
            "_________________________________________________________________\n",
            "dropout_8 (Dropout)          (None, 128)               0         \n",
            "_________________________________________________________________\n",
            "dense_14 (Dense)             (None, 64)                8256      \n",
            "_________________________________________________________________\n",
            "dropout_9 (Dropout)          (None, 64)                0         \n",
            "_________________________________________________________________\n",
            "dense_15 (Dense)             (None, 1)                 65        \n",
            "=================================================================\n",
            "Total params: 3,526,593\n",
            "Trainable params: 3,526,593\n",
            "Non-trainable params: 0\n",
            "_________________________________________________________________\n",
            "None\n"
          ],
          "name": "stdout"
        }
      ]
    },
    {
      "cell_type": "code",
      "metadata": {
        "colab": {
          "base_uri": "https://localhost:8080/"
        },
        "id": "Ht9ywYXP-tpE",
        "outputId": "33582b83-da26-4590-e9ef-89812fd5a1b1"
      },
      "source": [
        "train_datagen = ImageDataGenerator(rescale=1./255,\n",
        "                                   rotation_range=40,\n",
        "                                   width_shift_range=0.2,\n",
        "                                   height_shift_range=0.2,\n",
        "                                   shear_range=0.2,\n",
        "                                   zoom_range=0.2,\n",
        "                                   horizontal_flip=True,)\n",
        "\n",
        "test_datagen = ImageDataGenerator(rescale=1./255)\n",
        "\n",
        "train_generator = train_datagen.flow_from_directory(train_dir,\n",
        "                                                    target_size=(150, 150),\n",
        "                                                    batch_size=20,\n",
        "                                                    class_mode='binary')\n",
        "\n",
        "validation_generator = test_datagen.flow_from_directory(validation_dir,\n",
        "                                                        target_size=(150, 150),\n",
        "                                                        batch_size=20,\n",
        "                                                        class_mode='binary')"
      ],
      "execution_count": null,
      "outputs": [
        {
          "output_type": "stream",
          "text": [
            "Found 2000 images belonging to 2 classes.\n",
            "Found 1000 images belonging to 2 classes.\n"
          ],
          "name": "stdout"
        }
      ]
    },
    {
      "cell_type": "code",
      "metadata": {
        "colab": {
          "background_save": true,
          "base_uri": "https://localhost:8080/"
        },
        "id": "mM-0utmk-y_G",
        "outputId": "af4be91e-fd90-40b5-ece5-e8377f314e2a"
      },
      "source": [
        "\n",
        "history = model.fit(train_generator,\n",
        "                    steps_per_epoch=100,\n",
        "                              epochs=30,\n",
        "                              validation_data=validation_generator,\n",
        "                              validation_steps=50)"
      ],
      "execution_count": null,
      "outputs": [
        {
          "output_type": "stream",
          "text": [
            "Epoch 1/30\n",
            "100/100 [==============================] - 18s 171ms/step - loss: 0.6942 - acc: 0.4977 - val_loss: 0.6912 - val_acc: 0.5000\n",
            "Epoch 2/30\n",
            "100/100 [==============================] - 17s 172ms/step - loss: 0.6902 - acc: 0.5165 - val_loss: 0.6828 - val_acc: 0.5070\n",
            "Epoch 3/30\n",
            "100/100 [==============================] - 18s 175ms/step - loss: 0.6853 - acc: 0.5545 - val_loss: 0.6651 - val_acc: 0.5890\n",
            "Epoch 4/30\n",
            "100/100 [==============================] - 17s 173ms/step - loss: 0.6763 - acc: 0.5600 - val_loss: 0.6609 - val_acc: 0.5990\n",
            "Epoch 5/30\n",
            "100/100 [==============================] - 17s 174ms/step - loss: 0.6708 - acc: 0.5953 - val_loss: 0.6502 - val_acc: 0.6140\n",
            "Epoch 6/30\n",
            "100/100 [==============================] - 17s 170ms/step - loss: 0.6678 - acc: 0.5881 - val_loss: 0.6526 - val_acc: 0.5990\n",
            "Epoch 7/30\n",
            "100/100 [==============================] - 17s 170ms/step - loss: 0.6619 - acc: 0.5876 - val_loss: 0.6319 - val_acc: 0.6200\n",
            "Epoch 8/30\n",
            "100/100 [==============================] - 17s 168ms/step - loss: 0.6389 - acc: 0.6464 - val_loss: 0.6273 - val_acc: 0.6410\n",
            "Epoch 9/30\n",
            "100/100 [==============================] - 17s 168ms/step - loss: 0.6212 - acc: 0.6519 - val_loss: 0.5957 - val_acc: 0.6780\n",
            "Epoch 10/30\n",
            "100/100 [==============================] - 17s 169ms/step - loss: 0.6068 - acc: 0.6702 - val_loss: 0.5978 - val_acc: 0.6680\n",
            "Epoch 11/30\n",
            "100/100 [==============================] - 17s 170ms/step - loss: 0.5966 - acc: 0.6858 - val_loss: 0.5768 - val_acc: 0.6880\n",
            "Epoch 12/30\n",
            "100/100 [==============================] - 17s 167ms/step - loss: 0.5972 - acc: 0.6809 - val_loss: 0.5904 - val_acc: 0.6900\n",
            "Epoch 13/30\n",
            "100/100 [==============================] - 17s 167ms/step - loss: 0.5987 - acc: 0.6703 - val_loss: 0.5761 - val_acc: 0.6950\n",
            "Epoch 14/30\n",
            "100/100 [==============================] - 17s 167ms/step - loss: 0.6013 - acc: 0.6720 - val_loss: 0.5599 - val_acc: 0.7080\n",
            "Epoch 15/30\n",
            "100/100 [==============================] - 17s 168ms/step - loss: 0.5837 - acc: 0.6826 - val_loss: 0.5595 - val_acc: 0.6980\n",
            "Epoch 16/30\n",
            "100/100 [==============================] - 17s 165ms/step - loss: 0.6013 - acc: 0.6903 - val_loss: 0.5612 - val_acc: 0.7080\n",
            "Epoch 17/30\n",
            "100/100 [==============================] - 17s 166ms/step - loss: 0.5586 - acc: 0.7132 - val_loss: 0.5440 - val_acc: 0.7230\n",
            "Epoch 18/30\n",
            "100/100 [==============================] - 17s 166ms/step - loss: 0.5898 - acc: 0.6759 - val_loss: 0.5526 - val_acc: 0.7180\n",
            "Epoch 19/30\n",
            "100/100 [==============================] - 17s 166ms/step - loss: 0.5839 - acc: 0.6936 - val_loss: 0.5411 - val_acc: 0.7250\n",
            "Epoch 20/30\n",
            "100/100 [==============================] - 17s 167ms/step - loss: 0.5618 - acc: 0.7106 - val_loss: 0.6162 - val_acc: 0.6690\n",
            "Epoch 21/30\n",
            "100/100 [==============================] - 17s 167ms/step - loss: 0.5626 - acc: 0.7025 - val_loss: 0.6413 - val_acc: 0.6720\n",
            "Epoch 22/30\n",
            "100/100 [==============================] - 17s 165ms/step - loss: 0.5437 - acc: 0.7323 - val_loss: 0.5270 - val_acc: 0.7330\n",
            "Epoch 23/30\n",
            "100/100 [==============================] - 17s 166ms/step - loss: 0.5456 - acc: 0.7325 - val_loss: 0.6089 - val_acc: 0.6680\n",
            "Epoch 24/30\n",
            "100/100 [==============================] - 17s 166ms/step - loss: 0.5348 - acc: 0.7437 - val_loss: 0.5331 - val_acc: 0.7400\n",
            "Epoch 25/30\n",
            "100/100 [==============================] - 17s 166ms/step - loss: 0.5521 - acc: 0.7273 - val_loss: 0.5399 - val_acc: 0.7300\n",
            "Epoch 26/30\n",
            "100/100 [==============================] - 16s 165ms/step - loss: 0.5324 - acc: 0.7356 - val_loss: 0.5056 - val_acc: 0.7330\n",
            "Epoch 27/30\n",
            "100/100 [==============================] - 17s 165ms/step - loss: 0.5325 - acc: 0.7388 - val_loss: 0.5112 - val_acc: 0.7520\n",
            "Epoch 28/30\n",
            "100/100 [==============================] - 16s 164ms/step - loss: 0.5341 - acc: 0.7495 - val_loss: 0.5249 - val_acc: 0.7280\n",
            "Epoch 29/30\n",
            "100/100 [==============================] - 17s 165ms/step - loss: 0.5278 - acc: 0.7350 - val_loss: 0.5010 - val_acc: 0.7500\n",
            "Epoch 30/30\n",
            "100/100 [==============================] - 17s 166ms/step - loss: 0.5053 - acc: 0.7424 - val_loss: 0.5328 - val_acc: 0.7320\n"
          ],
          "name": "stdout"
        }
      ]
    },
    {
      "cell_type": "code",
      "metadata": {
        "colab": {
          "background_save": true
        },
        "id": "duJ8nXQvBVNH",
        "outputId": "2bca7c79-0f9c-483e-babd-315f5ec96c19"
      },
      "source": [
        "print('Best val accuracy : ',max(history.history[\"val_acc\"]))"
      ],
      "execution_count": null,
      "outputs": [
        {
          "output_type": "stream",
          "text": [
            "Best val accuracy :  0.7519999742507935\n"
          ],
          "name": "stdout"
        }
      ]
    },
    {
      "cell_type": "code",
      "metadata": {
        "colab": {
          "background_save": true
        },
        "id": "-8_jT01OBOy1",
        "outputId": "7ca26e7d-954c-4388-9d67-7e6027c55730"
      },
      "source": [
        "model.save('cats_and_dogs_best_model.h5')\n",
        "\n",
        "import matplotlib.pyplot as plt\n",
        "\n",
        "acc = history.history['acc']\n",
        "val_acc = history.history['val_acc']\n",
        "loss = history.history['loss']\n",
        "val_loss = history.history['val_loss']\n",
        "\n",
        "epochs = range(1, len(acc) + 1)\n",
        "\n",
        "plt.plot(epochs, acc, 'bo', label='Training acc')\n",
        "plt.plot(epochs, val_acc, 'b', label='Validation acc')\n",
        "plt.title('Training and validation accuracy')\n",
        "plt.legend()\n",
        "\n",
        "plt.figure()\n",
        "\n",
        "plt.plot(epochs, loss, 'bo', label='Training loss')\n",
        "plt.plot(epochs, val_loss, 'b', label='Validation loss')\n",
        "plt.title('Training and validation loss')\n",
        "plt.legend()\n",
        "\n",
        "plt.show()"
      ],
      "execution_count": null,
      "outputs": [
        {
          "output_type": "display_data",
          "data": {
            "image/png": "[encoded data removed]",
            "text/plain": [
              "<Figure size 432x288 with 1 Axes>"
            ]
          },
          "metadata": {
            "tags": []
          }
        },
        {
          "output_type": "display_data",
          "data": {
            "image/png": "[encoded data removed]",
            "text/plain": [
              "<Figure size 432x288 with 1 Axes>"
            ]
          },
          "metadata": {
            "tags": []
          }
        }
      ]
    },
    {
      "cell_type": "code",
      "metadata": {
        "id": "8gvcPVU9B7YT"
      },
      "source": [
        ""
      ],
      "execution_count": null,
      "outputs": []
    }
  ]
}