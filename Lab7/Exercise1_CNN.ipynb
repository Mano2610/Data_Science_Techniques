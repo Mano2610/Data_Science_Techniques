{
  "nbformat": 4,
  "nbformat_minor": 0,
  "metadata": {
    "kernelspec": {
      "display_name": "Python 3",
      "language": "python",
      "name": "python3"
    },
    "language_info": {
      "codemirror_mode": {
        "name": "ipython",
        "version": 3
      },
      "file_extension": ".py",
      "mimetype": "text/x-python",
      "name": "python",
      "nbconvert_exporter": "python",
      "pygments_lexer": "ipython3",
      "version": "3.6.5"
    },
    "colab": {
      "name": "Exercise1_CNN.ipynb",
      "provenance": [],
      "collapsed_sections": [],
      "include_colab_link": true
    },
    "accelerator": "GPU"
  },
  "cells": [
    {
      "cell_type": "markdown",
      "metadata": {
        "id": "view-in-github",
        "colab_type": "text"
      },
      "source": [
        "<a href=\"https://colab.research.google.com/github/Mano2610/CE888/blob/main/Lab/Lab7/Exercise1_CNN.ipynb\" target=\"_parent\"><img src=\"https://colab.research.google.com/assets/colab-badge.svg\" alt=\"Open In Colab\"/></a>"
      ]
    },
    {
      "cell_type": "markdown",
      "metadata": {
        "id": "vwRGEQbzGpYQ"
      },
      "source": [
        "# First CNN model for MNIST Dataset\n",
        "\n",
        "* MNIST Dataset is ''Hello World'' of Image Recognition\n",
        "\n",
        "* [Dataset HomePage](http://yann.lecun.com/exdb/mnist/)\n",
        "\n",
        "* History of MNIST Dataset [Watch here](https://www.youtube.com/watch?v=oKzNUGz21JM)\n",
        "\n",
        "\n",
        "---\n",
        "The MNIST database of handwritten digits, available from this page, has a training set of 60,000 examples, and a \n",
        "test set of 10,000 examples. It is a subset of a larger set available from NIST. The digits have been size-normalized and centered in a fixed-size image.\n",
        "\n",
        "![Kitten](https://camo.githubusercontent.com/01c057a753e92a9bc70b8c45d62b295431851c09cffadf53106fc0aea7e2843f/687474703a2f2f692e7974696d672e636f6d2f76692f3051493378675875422d512f687164656661756c742e6a7067)\n"
      ]
    },
    {
      "cell_type": "markdown",
      "metadata": {
        "id": "PhmJOHCpJD_w"
      },
      "source": [
        "# Let's start building our first CNN Model"
      ]
    },
    {
      "cell_type": "code",
      "metadata": {
        "id": "lSyHCSV7jymI"
      },
      "source": [
        "from keras import layers\n",
        "from keras import models"
      ],
      "execution_count": null,
      "outputs": []
    },
    {
      "cell_type": "markdown",
      "metadata": {
        "id": "oWNzCYUUjymN"
      },
      "source": [
        "Importantly, a convnet takes as input tensors of shape (image_height, image_width,\n",
        "image_channels) (not including the batch dimension). In this case, we’ll configure\n",
        "the convnet to process inputs of size (28, 28, 1), which is the format of MNIST\n",
        "images. We’ll do this by passing the argument input_shape=(28, 28, 1) to the first\n",
        "layer."
      ]
    },
    {
      "cell_type": "markdown",
      "metadata": {
        "id": "dM4JLEpwjymN"
      },
      "source": [
        "#### Instantiating a small convnet"
      ]
    },
    {
      "cell_type": "code",
      "metadata": {
        "id": "p-OnpExGjymO",
        "colab": {
          "base_uri": "https://localhost:8080/"
        },
        "outputId": "c4c7cc94-6af2-4bba-8357-520b69b31503"
      },
      "source": [
        "model = models.Sequential()\n",
        "model.add(layers.Conv2D(32, (3, 3), activation='relu', input_shape=(28, 28, 1)))\n",
        "model.add(layers.MaxPooling2D((2, 2)))\n",
        "model.add(layers.Conv2D(64, (3, 3), activation='relu'))\n",
        "model.add(layers.MaxPooling2D((2, 2)))\n",
        "model.add(layers.Conv2D(64, (3, 3), activation='relu'))\n",
        "model.summary()"
      ],
      "execution_count": null,
      "outputs": [
        {
          "output_type": "stream",
          "text": [
            "Model: \"sequential\"\n",
            "_________________________________________________________________\n",
            "Layer (type)                 Output Shape              Param #   \n",
            "=================================================================\n",
            "conv2d (Conv2D)              (None, 26, 26, 32)        320       \n",
            "_________________________________________________________________\n",
            "max_pooling2d (MaxPooling2D) (None, 13, 13, 32)        0         \n",
            "_________________________________________________________________\n",
            "conv2d_1 (Conv2D)            (None, 11, 11, 64)        18496     \n",
            "_________________________________________________________________\n",
            "max_pooling2d_1 (MaxPooling2 (None, 5, 5, 64)          0         \n",
            "_________________________________________________________________\n",
            "conv2d_2 (Conv2D)            (None, 3, 3, 64)          36928     \n",
            "=================================================================\n",
            "Total params: 55,744\n",
            "Trainable params: 55,744\n",
            "Non-trainable params: 0\n",
            "_________________________________________________________________\n"
          ],
          "name": "stdout"
        }
      ]
    },
    {
      "cell_type": "markdown",
      "metadata": {
        "id": "7gcVG3xkjymR"
      },
      "source": [
        "#### Adding a classifier on top of the convnet"
      ]
    },
    {
      "cell_type": "code",
      "metadata": {
        "id": "C2DfhDJYjymR",
        "colab": {
          "base_uri": "https://localhost:8080/"
        },
        "outputId": "d80a28d0-f86c-4738-c82e-2898b88f2f01"
      },
      "source": [
        "model.add(layers.Flatten())\n",
        "model.add(layers.Dense(64, activation='relu'))\n",
        "model.add(layers.Dense(10, activation='softmax'))\n",
        "model.summary()"
      ],
      "execution_count": null,
      "outputs": [
        {
          "output_type": "stream",
          "text": [
            "Model: \"sequential\"\n",
            "_________________________________________________________________\n",
            "Layer (type)                 Output Shape              Param #   \n",
            "=================================================================\n",
            "conv2d (Conv2D)              (None, 26, 26, 32)        320       \n",
            "_________________________________________________________________\n",
            "max_pooling2d (MaxPooling2D) (None, 13, 13, 32)        0         \n",
            "_________________________________________________________________\n",
            "conv2d_1 (Conv2D)            (None, 11, 11, 64)        18496     \n",
            "_________________________________________________________________\n",
            "max_pooling2d_1 (MaxPooling2 (None, 5, 5, 64)          0         \n",
            "_________________________________________________________________\n",
            "conv2d_2 (Conv2D)            (None, 3, 3, 64)          36928     \n",
            "_________________________________________________________________\n",
            "flatten (Flatten)            (None, 576)               0         \n",
            "_________________________________________________________________\n",
            "dense (Dense)                (None, 64)                36928     \n",
            "_________________________________________________________________\n",
            "dense_1 (Dense)              (None, 10)                650       \n",
            "=================================================================\n",
            "Total params: 93,322\n",
            "Trainable params: 93,322\n",
            "Non-trainable params: 0\n",
            "_________________________________________________________________\n"
          ],
          "name": "stdout"
        }
      ]
    },
    {
      "cell_type": "markdown",
      "metadata": {
        "id": "NOKVF4nKjymU"
      },
      "source": [
        "### Training the convnet on MNIST images"
      ]
    },
    {
      "cell_type": "code",
      "metadata": {
        "id": "oIcgUbbUjymV"
      },
      "source": [
        "from keras.datasets import mnist\n",
        "from keras.utils import to_categorical"
      ],
      "execution_count": null,
      "outputs": []
    },
    {
      "cell_type": "markdown",
      "metadata": {
        "id": "ZnJ2Pfs_jymX"
      },
      "source": [
        "#### Load Data"
      ]
    },
    {
      "cell_type": "code",
      "metadata": {
        "id": "JpHGHE9MjymY",
        "colab": {
          "base_uri": "https://localhost:8080/"
        },
        "outputId": "0496d998-21d8-4e4d-c7d4-6be863a593a5"
      },
      "source": [
        "(train_images, train_labels), (test_images, test_labels) = mnist.load_data()\n",
        "train_images = train_images.reshape((60000, 28, 28, 1))\n",
        "train_images = train_images.astype('float32') / 255\n",
        "test_images = test_images.reshape((10000, 28, 28, 1))\n",
        "test_images = test_images.astype('float32') / 255\n",
        "train_labels = to_categorical(train_labels)\n",
        "test_labels = to_categorical(test_labels)"
      ],
      "execution_count": null,
      "outputs": [
        {
          "output_type": "stream",
          "text": [
            "Downloading data from https://storage.googleapis.com/tensorflow/tf-keras-datasets/mnist.npz\n",
            "11493376/11490434 [==============================] - 0s 0us/step\n"
          ],
          "name": "stdout"
        }
      ]
    },
    {
      "cell_type": "markdown",
      "metadata": {
        "id": "4HoTLrfSjymd"
      },
      "source": [
        "#### compile and fit model "
      ]
    },
    {
      "cell_type": "code",
      "metadata": {
        "id": "i23FDtC9jyme",
        "colab": {
          "base_uri": "https://localhost:8080/"
        },
        "outputId": "2313774c-1cbe-42d4-82e5-65d57d6400f4"
      },
      "source": [
        "model.compile(optimizer='rmsprop', \n",
        "              loss='categorical_crossentropy',\n",
        "              metrics=['accuracy'])\n",
        "history = model.fit(train_images, train_labels, epochs=5, batch_size=64, validation_split=0.2)"
      ],
      "execution_count": null,
      "outputs": [
        {
          "output_type": "stream",
          "text": [
            "Epoch 1/5\n",
            "750/750 [==============================] - 4s 4ms/step - loss: 0.0161 - accuracy: 0.9950 - val_loss: 0.0492 - val_accuracy: 0.9886\n",
            "Epoch 2/5\n",
            "750/750 [==============================] - 3s 4ms/step - loss: 0.0122 - accuracy: 0.9956 - val_loss: 0.0431 - val_accuracy: 0.9900\n",
            "Epoch 3/5\n",
            "750/750 [==============================] - 3s 4ms/step - loss: 0.0091 - accuracy: 0.9971 - val_loss: 0.0482 - val_accuracy: 0.9873\n",
            "Epoch 4/5\n",
            "750/750 [==============================] - 3s 4ms/step - loss: 0.0083 - accuracy: 0.9976 - val_loss: 0.0486 - val_accuracy: 0.9901\n",
            "Epoch 5/5\n",
            "750/750 [==============================] - 3s 4ms/step - loss: 0.0070 - accuracy: 0.9977 - val_loss: 0.0468 - val_accuracy: 0.9895\n"
          ],
          "name": "stdout"
        }
      ]
    },
    {
      "cell_type": "markdown",
      "metadata": {
        "id": "9zU8iI5ojymg"
      },
      "source": [
        "#### evaluate model"
      ]
    },
    {
      "cell_type": "code",
      "metadata": {
        "id": "Z3VeaL1Njymh",
        "colab": {
          "base_uri": "https://localhost:8080/"
        },
        "outputId": "474b4f3b-7af7-42c5-e028-2555cc93c511"
      },
      "source": [
        "test_loss, test_acc = model.evaluate(test_images, test_labels)\n",
        "test_acc"
      ],
      "execution_count": null,
      "outputs": [
        {
          "output_type": "stream",
          "text": [
            "313/313 [==============================] - 1s 2ms/step - loss: 0.0387 - accuracy: 0.9907\n"
          ],
          "name": "stdout"
        },
        {
          "output_type": "execute_result",
          "data": {
            "text/plain": [
              "0.9907000064849854"
            ]
          },
          "metadata": {
            "tags": []
          },
          "execution_count": 11
        }
      ]
    },
    {
      "cell_type": "code",
      "metadata": {
        "id": "wXNZOY7Sjymj",
        "colab": {
          "base_uri": "https://localhost:8080/",
          "height": 545
        },
        "outputId": "34359813-acd5-40b4-fcc6-e359a66b752d"
      },
      "source": [
        "import matplotlib.pyplot as plt\n",
        "\n",
        "acc = history.history['accuracy']\n",
        "val_acc = history.history['val_accuracy']\n",
        "loss = history.history['loss']\n",
        "val_loss = history.history['val_loss']\n",
        "\n",
        "epochs = range(1, len(acc) + 1)\n",
        "\n",
        "plt.plot(epochs, acc, 'bo', label='Training acc')\n",
        "plt.plot(epochs, val_acc, 'b', label='Validation acc')\n",
        "plt.title('Training and validation accuracy')\n",
        "plt.legend()\n",
        "\n",
        "plt.figure()\n",
        "\n",
        "plt.plot(epochs, loss, 'bo', label='Training loss')\n",
        "plt.plot(epochs, val_loss, 'b', label='Validation loss')\n",
        "plt.title('Training and validation loss')\n",
        "plt.legend()\n",
        "\n",
        "plt.show()"
      ],
      "execution_count": null,
      "outputs": [
        {
          "output_type": "display_data",
          "data": {
            "image/png": "[encoded data removed]",
            "text/plain": [
              "<Figure size 432x288 with 1 Axes>"
            ]
          },
          "metadata": {
            "tags": [],
            "needs_background": "light"
          }
        },
        {
          "output_type": "display_data",
          "data": {
            "image/png": "[encoded data removed]",
            "text/plain": [
              "<Figure size 432x288 with 1 Axes>"
            ]
          },
          "metadata": {
            "tags": [],
            "needs_background": "light"
          }
        }
      ]
    },
    {
      "cell_type": "markdown",
      "metadata": {
        "id": "dsQMc0Iojyml"
      },
      "source": [
        "## Task 1\n",
        "\n",
        "Change the activation function and other parameters such as optimizer to see the effect on the network and it's performance. If possible create a grid search. "
      ]
    },
    {
      "cell_type": "code",
      "metadata": {
        "id": "owJ-29BrJXNa"
      },
      "source": [
        "\n",
        "def create_model(optimizer='Adam', activation='relu'):\n",
        "  model = models.Sequential()\n",
        "\n",
        "  # ConvNet\n",
        "  model.add(layers.Conv2D(32, (3, 3), activation=activation, input_shape=(28, 28, 1)))\n",
        "  model.add(layers.MaxPooling2D((2, 2)))\n",
        "  model.add(layers.Conv2D(64, (3, 3), activation=activation))\n",
        "  model.add(layers.MaxPooling2D((2, 2)))\n",
        "  model.add(layers.Conv2D(64, (3, 3), activation=activation))\n",
        "\n",
        "  # Classifier\n",
        "  model.add(layers.Flatten())\n",
        "  model.add(layers.Dense(64, activation=activation))\n",
        "  model.add(layers.Dense(10, activation='softmax'))\n",
        "\n",
        "  model.compile(optimizer=optimizer, \n",
        "                loss='categorical_crossentropy',\n",
        "                metrics=['accuracy'])\n",
        "\n",
        "  return model"
      ],
      "execution_count": null,
      "outputs": []
    },
    {
      "cell_type": "code",
      "metadata": {
        "id": "A-np38Vw6k8D",
        "colab": {
          "base_uri": "https://localhost:8080/"
        },
        "outputId": "b7a1659a-6713-4e9d-c82d-c328b74d126c"
      },
      "source": [
        "from keras.wrappers.scikit_learn import KerasClassifier\n",
        "from sklearn.model_selection import GridSearchCV\n",
        "\n",
        "batch_size = [32, 64]\n",
        "optimizer = ['RMSprop', 'Adam']\n",
        "activation = ['relu', 'sigmoid']\n",
        "param_grid = dict(batch_size=batch_size, optimizer=optimizer, activation=activation)\n",
        "\n",
        "model = KerasClassifier(build_fn=create_model, epochs=5)\n",
        "grid = GridSearchCV(estimator=model, param_grid=param_grid, verbose=1)\n",
        "grid_result = grid.fit(train_images, train_labels)\n",
        "\n",
        "print(\"Best Score : \",grid_result.best_score_, \" Parameters are\", grid_result.best_params_)"
      ],
      "execution_count": null,
      "outputs": [
        {
          "output_type": "stream",
          "text": [
            "Fitting 5 folds for each of 8 candidates, totalling 40 fits\n",
            "Epoch 1/5\n"
          ],
          "name": "stdout"
        },
        {
          "output_type": "stream",
          "text": [
            "[Parallel(n_jobs=1)]: Using backend SequentialBackend with 1 concurrent workers.\n"
          ],
          "name": "stderr"
        },
        {
          "output_type": "stream",
          "text": [
            "1500/1500 [==============================] - 5s 3ms/step - loss: 0.3515 - accuracy: 0.8874\n",
            "Epoch 2/5\n",
            "1500/1500 [==============================] - 5s 3ms/step - loss: 0.0516 - accuracy: 0.9841\n",
            "Epoch 3/5\n",
            "1500/1500 [==============================] - 5s 3ms/step - loss: 0.0335 - accuracy: 0.9896\n",
            "Epoch 4/5\n",
            "1500/1500 [==============================] - 5s 3ms/step - loss: 0.0252 - accuracy: 0.9919\n",
            "Epoch 5/5\n",
            "1500/1500 [==============================] - 5s 3ms/step - loss: 0.0195 - accuracy: 0.9938\n",
            "375/375 [==============================] - 1s 2ms/step - loss: 0.0511 - accuracy: 0.9880\n",
            "Epoch 1/5\n",
            "1500/1500 [==============================] - 5s 3ms/step - loss: 0.3612 - accuracy: 0.8835\n",
            "Epoch 2/5\n",
            "1500/1500 [==============================] - 5s 3ms/step - loss: 0.0536 - accuracy: 0.9835\n",
            "Epoch 3/5\n",
            "1500/1500 [==============================] - 5s 3ms/step - loss: 0.0332 - accuracy: 0.9898\n",
            "Epoch 4/5\n",
            "1500/1500 [==============================] - 5s 3ms/step - loss: 0.0257 - accuracy: 0.9921\n",
            "Epoch 5/5\n",
            "1500/1500 [==============================] - 5s 3ms/step - loss: 0.0207 - accuracy: 0.9934\n",
            "375/375 [==============================] - 1s 2ms/step - loss: 0.0363 - accuracy: 0.9916\n",
            "Epoch 1/5\n",
            "1500/1500 [==============================] - 5s 3ms/step - loss: 0.3651 - accuracy: 0.8850\n",
            "Epoch 2/5\n",
            "1500/1500 [==============================] - 5s 3ms/step - loss: 0.0514 - accuracy: 0.9845\n",
            "Epoch 3/5\n",
            "1500/1500 [==============================] - 5s 3ms/step - loss: 0.0332 - accuracy: 0.9897\n",
            "Epoch 4/5\n",
            "1500/1500 [==============================] - 5s 3ms/step - loss: 0.0261 - accuracy: 0.9924\n",
            "Epoch 5/5\n",
            "1500/1500 [==============================] - 5s 3ms/step - loss: 0.0214 - accuracy: 0.9933\n",
            "375/375 [==============================] - 1s 2ms/step - loss: 0.0418 - accuracy: 0.9901\n",
            "Epoch 1/5\n",
            "1500/1500 [==============================] - 5s 3ms/step - loss: 0.3686 - accuracy: 0.8828\n",
            "Epoch 2/5\n",
            "1500/1500 [==============================] - 5s 3ms/step - loss: 0.0500 - accuracy: 0.9846\n",
            "Epoch 3/5\n",
            "1500/1500 [==============================] - 5s 3ms/step - loss: 0.0324 - accuracy: 0.9907\n",
            "Epoch 4/5\n",
            "1500/1500 [==============================] - 5s 3ms/step - loss: 0.0244 - accuracy: 0.9926\n",
            "Epoch 5/5\n",
            "1500/1500 [==============================] - 5s 3ms/step - loss: 0.0191 - accuracy: 0.9941\n",
            "375/375 [==============================] - 1s 2ms/step - loss: 0.0483 - accuracy: 0.9872\n",
            "Epoch 1/5\n",
            "1500/1500 [==============================] - 5s 3ms/step - loss: 0.3871 - accuracy: 0.8774\n",
            "Epoch 2/5\n",
            "1500/1500 [==============================] - 5s 3ms/step - loss: 0.0515 - accuracy: 0.9836\n",
            "Epoch 3/5\n",
            "1500/1500 [==============================] - 5s 3ms/step - loss: 0.0370 - accuracy: 0.9893\n",
            "Epoch 4/5\n",
            "1500/1500 [==============================] - 5s 3ms/step - loss: 0.0253 - accuracy: 0.9926\n",
            "Epoch 5/5\n",
            "1500/1500 [==============================] - 5s 3ms/step - loss: 0.0193 - accuracy: 0.9945\n",
            "375/375 [==============================] - 1s 2ms/step - loss: 0.0370 - accuracy: 0.9908\n",
            "Epoch 1/5\n",
            "1500/1500 [==============================] - 5s 3ms/step - loss: 0.3807 - accuracy: 0.8799\n",
            "Epoch 2/5\n",
            "1500/1500 [==============================] - 4s 3ms/step - loss: 0.0533 - accuracy: 0.9830\n",
            "Epoch 3/5\n",
            "1500/1500 [==============================] - 4s 3ms/step - loss: 0.0349 - accuracy: 0.9887\n",
            "Epoch 4/5\n",
            "1500/1500 [==============================] - 4s 3ms/step - loss: 0.0238 - accuracy: 0.9923\n",
            "Epoch 5/5\n",
            "1500/1500 [==============================] - 4s 3ms/step - loss: 0.0232 - accuracy: 0.9928\n",
            "375/375 [==============================] - 1s 2ms/step - loss: 0.0438 - accuracy: 0.9872\n",
            "Epoch 1/5\n",
            "1500/1500 [==============================] - 5s 3ms/step - loss: 0.3745 - accuracy: 0.8811\n",
            "Epoch 2/5\n",
            "1500/1500 [==============================] - 4s 3ms/step - loss: 0.0556 - accuracy: 0.9838\n",
            "Epoch 3/5\n",
            "1500/1500 [==============================] - 4s 3ms/step - loss: 0.0365 - accuracy: 0.9892\n",
            "Epoch 4/5\n",
            "1500/1500 [==============================] - 4s 3ms/step - loss: 0.0266 - accuracy: 0.9913\n",
            "Epoch 5/5\n",
            "1500/1500 [==============================] - 4s 3ms/step - loss: 0.0196 - accuracy: 0.9937\n",
            "375/375 [==============================] - 1s 2ms/step - loss: 0.0485 - accuracy: 0.9856\n",
            "Epoch 1/5\n",
            "1500/1500 [==============================] - 5s 3ms/step - loss: 0.4044 - accuracy: 0.8736\n",
            "Epoch 2/5\n",
            "1500/1500 [==============================] - 4s 3ms/step - loss: 0.0550 - accuracy: 0.9829\n",
            "Epoch 3/5\n",
            "1500/1500 [==============================] - 4s 3ms/step - loss: 0.0384 - accuracy: 0.9884\n",
            "Epoch 4/5\n",
            "1500/1500 [==============================] - 4s 3ms/step - loss: 0.0299 - accuracy: 0.9902\n",
            "Epoch 5/5\n",
            "1500/1500 [==============================] - 4s 3ms/step - loss: 0.0220 - accuracy: 0.9926\n",
            "375/375 [==============================] - 1s 2ms/step - loss: 0.0515 - accuracy: 0.9858\n",
            "Epoch 1/5\n",
            "1500/1500 [==============================] - 5s 3ms/step - loss: 0.3755 - accuracy: 0.8813\n",
            "Epoch 2/5\n",
            "1500/1500 [==============================] - 4s 3ms/step - loss: 0.0501 - accuracy: 0.9849\n",
            "Epoch 3/5\n",
            "1500/1500 [==============================] - 4s 3ms/step - loss: 0.0318 - accuracy: 0.9907\n",
            "Epoch 4/5\n",
            "1500/1500 [==============================] - 4s 3ms/step - loss: 0.0230 - accuracy: 0.9927\n",
            "Epoch 5/5\n",
            "1500/1500 [==============================] - 4s 3ms/step - loss: 0.0185 - accuracy: 0.9941\n",
            "375/375 [==============================] - 1s 2ms/step - loss: 0.0534 - accuracy: 0.9863\n",
            "Epoch 1/5\n",
            "1500/1500 [==============================] - 5s 3ms/step - loss: 0.3766 - accuracy: 0.8836\n",
            "Epoch 2/5\n",
            "1500/1500 [==============================] - 4s 3ms/step - loss: 0.0539 - accuracy: 0.9837\n",
            "Epoch 3/5\n",
            "1500/1500 [==============================] - 4s 3ms/step - loss: 0.0338 - accuracy: 0.9888\n",
            "Epoch 4/5\n",
            "1500/1500 [==============================] - 4s 3ms/step - loss: 0.0254 - accuracy: 0.9917\n",
            "Epoch 5/5\n",
            "1500/1500 [==============================] - 4s 3ms/step - loss: 0.0187 - accuracy: 0.9938\n",
            "375/375 [==============================] - 1s 2ms/step - loss: 0.0409 - accuracy: 0.9889\n",
            "Epoch 1/5\n",
            "750/750 [==============================] - 3s 4ms/step - loss: 0.4232 - accuracy: 0.8635\n",
            "Epoch 2/5\n",
            "750/750 [==============================] - 3s 3ms/step - loss: 0.0561 - accuracy: 0.9827\n",
            "Epoch 3/5\n",
            "750/750 [==============================] - 3s 4ms/step - loss: 0.0335 - accuracy: 0.9889\n",
            "Epoch 4/5\n",
            "750/750 [==============================] - 3s 3ms/step - loss: 0.0268 - accuracy: 0.9919\n",
            "Epoch 5/5\n",
            "750/750 [==============================] - 3s 3ms/step - loss: 0.0195 - accuracy: 0.9932\n",
            "188/188 [==============================] - 1s 3ms/step - loss: 0.0351 - accuracy: 0.9898\n",
            "Epoch 1/5\n",
            "750/750 [==============================] - 3s 4ms/step - loss: 0.4509 - accuracy: 0.8528\n",
            "Epoch 2/5\n",
            "750/750 [==============================] - 3s 3ms/step - loss: 0.0585 - accuracy: 0.9819\n",
            "Epoch 3/5\n",
            "750/750 [==============================] - 3s 3ms/step - loss: 0.0373 - accuracy: 0.9887\n",
            "Epoch 4/5\n",
            "750/750 [==============================] - 3s 4ms/step - loss: 0.0282 - accuracy: 0.9916\n",
            "Epoch 5/5\n",
            "750/750 [==============================] - 3s 4ms/step - loss: 0.0200 - accuracy: 0.9943\n",
            "188/188 [==============================] - 1s 3ms/step - loss: 0.0295 - accuracy: 0.9918\n",
            "Epoch 1/5\n",
            "750/750 [==============================] - 3s 3ms/step - loss: 0.4430 - accuracy: 0.8587\n",
            "Epoch 2/5\n",
            "750/750 [==============================] - 3s 3ms/step - loss: 0.0590 - accuracy: 0.9810\n",
            "Epoch 3/5\n",
            "750/750 [==============================] - 3s 3ms/step - loss: 0.0366 - accuracy: 0.9888\n",
            "Epoch 4/5\n",
            "750/750 [==============================] - 3s 3ms/step - loss: 0.0269 - accuracy: 0.9917\n",
            "Epoch 5/5\n",
            "750/750 [==============================] - 3s 3ms/step - loss: 0.0181 - accuracy: 0.9943\n",
            "188/188 [==============================] - 1s 3ms/step - loss: 0.0345 - accuracy: 0.9905\n",
            "Epoch 1/5\n",
            "750/750 [==============================] - 3s 4ms/step - loss: 0.4463 - accuracy: 0.8577\n",
            "Epoch 2/5\n",
            "750/750 [==============================] - 3s 4ms/step - loss: 0.0573 - accuracy: 0.9827\n",
            "Epoch 3/5\n",
            "750/750 [==============================] - 3s 4ms/step - loss: 0.0372 - accuracy: 0.9883\n",
            "Epoch 4/5\n",
            "750/750 [==============================] - 3s 3ms/step - loss: 0.0274 - accuracy: 0.9915\n",
            "Epoch 5/5\n",
            "750/750 [==============================] - 3s 3ms/step - loss: 0.0191 - accuracy: 0.9941\n",
            "188/188 [==============================] - 1s 3ms/step - loss: 0.0381 - accuracy: 0.9887\n",
            "Epoch 1/5\n",
            "750/750 [==============================] - 3s 3ms/step - loss: 0.4442 - accuracy: 0.8601\n",
            "Epoch 2/5\n",
            "750/750 [==============================] - 3s 4ms/step - loss: 0.0509 - accuracy: 0.9846\n",
            "Epoch 3/5\n",
            "750/750 [==============================] - 3s 3ms/step - loss: 0.0327 - accuracy: 0.9893\n",
            "Epoch 4/5\n",
            "750/750 [==============================] - 3s 3ms/step - loss: 0.0255 - accuracy: 0.9923\n",
            "Epoch 5/5\n",
            "750/750 [==============================] - 3s 3ms/step - loss: 0.0200 - accuracy: 0.9939\n",
            "188/188 [==============================] - 1s 3ms/step - loss: 0.0352 - accuracy: 0.9904\n",
            "Epoch 1/5\n",
            "750/750 [==============================] - 3s 3ms/step - loss: 0.4981 - accuracy: 0.8464\n",
            "Epoch 2/5\n",
            "750/750 [==============================] - 2s 3ms/step - loss: 0.0620 - accuracy: 0.9803\n",
            "Epoch 3/5\n",
            "750/750 [==============================] - 2s 3ms/step - loss: 0.0407 - accuracy: 0.9867\n",
            "Epoch 4/5\n",
            "750/750 [==============================] - 2s 3ms/step - loss: 0.0310 - accuracy: 0.9896\n",
            "Epoch 5/5\n",
            "750/750 [==============================] - 2s 3ms/step - loss: 0.0222 - accuracy: 0.9931\n",
            "188/188 [==============================] - 1s 3ms/step - loss: 0.0384 - accuracy: 0.9888\n",
            "Epoch 1/5\n",
            "750/750 [==============================] - 3s 3ms/step - loss: 0.4792 - accuracy: 0.8547\n",
            "Epoch 2/5\n",
            "750/750 [==============================] - 2s 3ms/step - loss: 0.0567 - accuracy: 0.9831\n",
            "Epoch 3/5\n",
            "750/750 [==============================] - 2s 3ms/step - loss: 0.0376 - accuracy: 0.9880\n",
            "Epoch 4/5\n",
            "750/750 [==============================] - 2s 3ms/step - loss: 0.0297 - accuracy: 0.9901\n",
            "Epoch 5/5\n",
            "750/750 [==============================] - 2s 3ms/step - loss: 0.0246 - accuracy: 0.9917\n",
            "188/188 [==============================] - 1s 3ms/step - loss: 0.0395 - accuracy: 0.9868\n",
            "Epoch 1/5\n",
            "750/750 [==============================] - 3s 3ms/step - loss: 0.4750 - accuracy: 0.8552\n",
            "Epoch 2/5\n",
            "750/750 [==============================] - 2s 3ms/step - loss: 0.0646 - accuracy: 0.9806\n",
            "Epoch 3/5\n",
            "750/750 [==============================] - 2s 3ms/step - loss: 0.0440 - accuracy: 0.9857\n",
            "Epoch 4/5\n",
            "750/750 [==============================] - 2s 3ms/step - loss: 0.0271 - accuracy: 0.9916\n",
            "Epoch 5/5\n",
            "750/750 [==============================] - 2s 3ms/step - loss: 0.0231 - accuracy: 0.9924\n",
            "188/188 [==============================] - 1s 3ms/step - loss: 0.0394 - accuracy: 0.9893\n",
            "Epoch 1/5\n",
            "750/750 [==============================] - 3s 3ms/step - loss: 0.4937 - accuracy: 0.8538\n",
            "Epoch 2/5\n",
            "750/750 [==============================] - 2s 3ms/step - loss: 0.0582 - accuracy: 0.9821\n",
            "Epoch 3/5\n",
            "750/750 [==============================] - 2s 3ms/step - loss: 0.0383 - accuracy: 0.9888\n",
            "Epoch 4/5\n",
            "750/750 [==============================] - 2s 3ms/step - loss: 0.0284 - accuracy: 0.9911\n",
            "Epoch 5/5\n",
            "750/750 [==============================] - 2s 3ms/step - loss: 0.0250 - accuracy: 0.9918\n",
            "188/188 [==============================] - 1s 2ms/step - loss: 0.0454 - accuracy: 0.9856\n",
            "Epoch 1/5\n",
            "750/750 [==============================] - 3s 3ms/step - loss: 0.5323 - accuracy: 0.8345\n",
            "Epoch 2/5\n",
            "750/750 [==============================] - 2s 3ms/step - loss: 0.0601 - accuracy: 0.9816\n",
            "Epoch 3/5\n",
            "750/750 [==============================] - 2s 3ms/step - loss: 0.0400 - accuracy: 0.9884\n",
            "Epoch 4/5\n",
            "750/750 [==============================] - 2s 3ms/step - loss: 0.0328 - accuracy: 0.9898\n",
            "Epoch 5/5\n",
            "750/750 [==============================] - 2s 3ms/step - loss: 0.0219 - accuracy: 0.9932\n",
            "188/188 [==============================] - 1s 3ms/step - loss: 0.0398 - accuracy: 0.9880\n",
            "Epoch 1/5\n",
            "1500/1500 [==============================] - 6s 3ms/step - loss: 1.4765 - accuracy: 0.4736\n",
            "Epoch 2/5\n",
            "1500/1500 [==============================] - 5s 3ms/step - loss: 0.1589 - accuracy: 0.9518\n",
            "Epoch 3/5\n",
            "1500/1500 [==============================] - 5s 3ms/step - loss: 0.0893 - accuracy: 0.9726\n",
            "Epoch 4/5\n",
            "1500/1500 [==============================] - 5s 3ms/step - loss: 0.0679 - accuracy: 0.9784\n",
            "Epoch 5/5\n",
            "1500/1500 [==============================] - 5s 3ms/step - loss: 0.0513 - accuracy: 0.9835\n",
            "375/375 [==============================] - 1s 2ms/step - loss: 0.0589 - accuracy: 0.9827\n",
            "Epoch 1/5\n",
            "1500/1500 [==============================] - 6s 3ms/step - loss: 1.4159 - accuracy: 0.5010\n",
            "Epoch 2/5\n",
            "1500/1500 [==============================] - 5s 3ms/step - loss: 0.1469 - accuracy: 0.9557\n",
            "Epoch 3/5\n",
            "1500/1500 [==============================] - 5s 3ms/step - loss: 0.0861 - accuracy: 0.9731\n",
            "Epoch 4/5\n",
            "1500/1500 [==============================] - 5s 3ms/step - loss: 0.0672 - accuracy: 0.9796\n",
            "Epoch 5/5\n",
            "1500/1500 [==============================] - 5s 3ms/step - loss: 0.0572 - accuracy: 0.9818\n",
            "375/375 [==============================] - 1s 2ms/step - loss: 0.0615 - accuracy: 0.9808\n",
            "Epoch 1/5\n",
            "1500/1500 [==============================] - 6s 3ms/step - loss: 1.4342 - accuracy: 0.4907\n",
            "Epoch 2/5\n",
            "1500/1500 [==============================] - 5s 3ms/step - loss: 0.1528 - accuracy: 0.9535\n",
            "Epoch 3/5\n",
            "1500/1500 [==============================] - 5s 3ms/step - loss: 0.0902 - accuracy: 0.9727\n",
            "Epoch 4/5\n",
            "1500/1500 [==============================] - 5s 3ms/step - loss: 0.0622 - accuracy: 0.9812\n",
            "Epoch 5/5\n",
            "1500/1500 [==============================] - 5s 3ms/step - loss: 0.0530 - accuracy: 0.9838\n",
            "375/375 [==============================] - 1s 2ms/step - loss: 0.0633 - accuracy: 0.9815\n",
            "Epoch 1/5\n",
            "1500/1500 [==============================] - 5s 3ms/step - loss: 1.4675 - accuracy: 0.4801\n",
            "Epoch 2/5\n",
            "1500/1500 [==============================] - 5s 3ms/step - loss: 0.1609 - accuracy: 0.9513\n",
            "Epoch 3/5\n",
            "1500/1500 [==============================] - 5s 3ms/step - loss: 0.0858 - accuracy: 0.9736\n",
            "Epoch 4/5\n",
            "1500/1500 [==============================] - 5s 3ms/step - loss: 0.0646 - accuracy: 0.9794\n",
            "Epoch 5/5\n",
            "1500/1500 [==============================] - 5s 3ms/step - loss: 0.0517 - accuracy: 0.9837\n",
            "375/375 [==============================] - 1s 2ms/step - loss: 0.0581 - accuracy: 0.9812\n",
            "Epoch 1/5\n",
            "1500/1500 [==============================] - 6s 3ms/step - loss: 1.3908 - accuracy: 0.5102\n",
            "Epoch 2/5\n",
            "1500/1500 [==============================] - 5s 3ms/step - loss: 0.1485 - accuracy: 0.9553\n",
            "Epoch 3/5\n",
            "1500/1500 [==============================] - 5s 3ms/step - loss: 0.0895 - accuracy: 0.9729\n",
            "Epoch 4/5\n",
            "1500/1500 [==============================] - 5s 3ms/step - loss: 0.0682 - accuracy: 0.9789\n",
            "Epoch 5/5\n",
            "1500/1500 [==============================] - 5s 3ms/step - loss: 0.0551 - accuracy: 0.9831\n",
            "375/375 [==============================] - 1s 2ms/step - loss: 0.0622 - accuracy: 0.9822\n",
            "Epoch 1/5\n",
            "1500/1500 [==============================] - 5s 3ms/step - loss: 1.4310 - accuracy: 0.4909\n",
            "Epoch 2/5\n",
            "1500/1500 [==============================] - 4s 3ms/step - loss: 0.1336 - accuracy: 0.9609\n",
            "Epoch 3/5\n",
            "1500/1500 [==============================] - 4s 3ms/step - loss: 0.0777 - accuracy: 0.9762\n",
            "Epoch 4/5\n",
            "1500/1500 [==============================] - 4s 3ms/step - loss: 0.0567 - accuracy: 0.9830\n",
            "Epoch 5/5\n",
            "1500/1500 [==============================] - 4s 3ms/step - loss: 0.0449 - accuracy: 0.9863\n",
            "375/375 [==============================] - 1s 2ms/step - loss: 0.0542 - accuracy: 0.9822\n",
            "Epoch 1/5\n",
            "1500/1500 [==============================] - 5s 3ms/step - loss: 1.4254 - accuracy: 0.4976\n",
            "Epoch 2/5\n",
            "1500/1500 [==============================] - 4s 3ms/step - loss: 0.1350 - accuracy: 0.9623\n",
            "Epoch 3/5\n",
            "1500/1500 [==============================] - 4s 3ms/step - loss: 0.0807 - accuracy: 0.9758\n",
            "Epoch 4/5\n",
            "1500/1500 [==============================] - 4s 3ms/step - loss: 0.0584 - accuracy: 0.9822\n",
            "Epoch 5/5\n",
            "1500/1500 [==============================] - 4s 3ms/step - loss: 0.0499 - accuracy: 0.9849\n",
            "375/375 [==============================] - 1s 2ms/step - loss: 0.0481 - accuracy: 0.9847\n",
            "Epoch 1/5\n",
            "1500/1500 [==============================] - 5s 3ms/step - loss: 1.4290 - accuracy: 0.4906\n",
            "Epoch 2/5\n",
            "1500/1500 [==============================] - 4s 3ms/step - loss: 0.1229 - accuracy: 0.9659\n",
            "Epoch 3/5\n",
            "1500/1500 [==============================] - 4s 3ms/step - loss: 0.0750 - accuracy: 0.9780\n",
            "Epoch 4/5\n",
            "1500/1500 [==============================] - 5s 3ms/step - loss: 0.0549 - accuracy: 0.9836\n",
            "Epoch 5/5\n",
            "1500/1500 [==============================] - 4s 3ms/step - loss: 0.0399 - accuracy: 0.9883\n",
            "375/375 [==============================] - 1s 2ms/step - loss: 0.0535 - accuracy: 0.9832\n",
            "Epoch 1/5\n",
            "1500/1500 [==============================] - 5s 3ms/step - loss: 1.4679 - accuracy: 0.4808\n",
            "Epoch 2/5\n",
            "1500/1500 [==============================] - 4s 3ms/step - loss: 0.1445 - accuracy: 0.9586\n",
            "Epoch 3/5\n",
            "1500/1500 [==============================] - 4s 3ms/step - loss: 0.0871 - accuracy: 0.9744\n",
            "Epoch 4/5\n",
            "1500/1500 [==============================] - 4s 3ms/step - loss: 0.0609 - accuracy: 0.9824\n",
            "Epoch 5/5\n",
            "1500/1500 [==============================] - 4s 3ms/step - loss: 0.0496 - accuracy: 0.9850\n",
            "375/375 [==============================] - 1s 2ms/step - loss: 0.0738 - accuracy: 0.9759\n",
            "Epoch 1/5\n",
            "1500/1500 [==============================] - 5s 3ms/step - loss: 1.3752 - accuracy: 0.5176\n",
            "Epoch 2/5\n",
            "1500/1500 [==============================] - 4s 3ms/step - loss: 0.1419 - accuracy: 0.9592\n",
            "Epoch 3/5\n",
            "1500/1500 [==============================] - 4s 3ms/step - loss: 0.0870 - accuracy: 0.9746\n",
            "Epoch 4/5\n",
            "1500/1500 [==============================] - 4s 3ms/step - loss: 0.0609 - accuracy: 0.9820\n",
            "Epoch 5/5\n",
            "1500/1500 [==============================] - 4s 3ms/step - loss: 0.0477 - accuracy: 0.9859\n",
            "375/375 [==============================] - 1s 2ms/step - loss: 0.0530 - accuracy: 0.9846\n",
            "Epoch 1/5\n",
            "750/750 [==============================] - 4s 4ms/step - loss: 1.7127 - accuracy: 0.3913\n",
            "Epoch 2/5\n",
            "750/750 [==============================] - 3s 4ms/step - loss: 0.2496 - accuracy: 0.9273\n",
            "Epoch 3/5\n",
            "750/750 [==============================] - 3s 4ms/step - loss: 0.1317 - accuracy: 0.9599\n",
            "Epoch 4/5\n",
            "750/750 [==============================] - 3s 4ms/step - loss: 0.0929 - accuracy: 0.9711\n",
            "Epoch 5/5\n",
            "750/750 [==============================] - 3s 3ms/step - loss: 0.0726 - accuracy: 0.9768\n",
            "188/188 [==============================] - 1s 3ms/step - loss: 0.0730 - accuracy: 0.9767\n",
            "Epoch 1/5\n",
            "750/750 [==============================] - 3s 4ms/step - loss: 1.6810 - accuracy: 0.4094\n",
            "Epoch 2/5\n",
            "750/750 [==============================] - 3s 4ms/step - loss: 0.2484 - accuracy: 0.9256\n",
            "Epoch 3/5\n",
            "750/750 [==============================] - 3s 4ms/step - loss: 0.1296 - accuracy: 0.9613\n",
            "Epoch 4/5\n",
            "750/750 [==============================] - 3s 4ms/step - loss: 0.0913 - accuracy: 0.9715\n",
            "Epoch 5/5\n",
            "750/750 [==============================] - 3s 4ms/step - loss: 0.0692 - accuracy: 0.9784\n",
            "188/188 [==============================] - 1s 3ms/step - loss: 0.0717 - accuracy: 0.9768\n",
            "Epoch 1/5\n",
            "750/750 [==============================] - 3s 3ms/step - loss: 1.6657 - accuracy: 0.4111\n",
            "Epoch 2/5\n",
            "750/750 [==============================] - 3s 4ms/step - loss: 0.2422 - accuracy: 0.9312\n",
            "Epoch 3/5\n",
            "750/750 [==============================] - 3s 3ms/step - loss: 0.1307 - accuracy: 0.9606\n",
            "Epoch 4/5\n",
            "750/750 [==============================] - 3s 4ms/step - loss: 0.0889 - accuracy: 0.9736\n",
            "Epoch 5/5\n",
            "750/750 [==============================] - 3s 3ms/step - loss: 0.0730 - accuracy: 0.9780\n",
            "188/188 [==============================] - 1s 2ms/step - loss: 0.1109 - accuracy: 0.9649\n",
            "Epoch 1/5\n",
            "750/750 [==============================] - 3s 3ms/step - loss: 1.7023 - accuracy: 0.3977\n",
            "Epoch 2/5\n",
            "750/750 [==============================] - 3s 3ms/step - loss: 0.2575 - accuracy: 0.9257\n",
            "Epoch 3/5\n",
            "750/750 [==============================] - 3s 4ms/step - loss: 0.1310 - accuracy: 0.9613\n",
            "Epoch 4/5\n",
            "750/750 [==============================] - 3s 4ms/step - loss: 0.0878 - accuracy: 0.9735\n",
            "Epoch 5/5\n",
            "750/750 [==============================] - 3s 4ms/step - loss: 0.0695 - accuracy: 0.9790\n",
            "188/188 [==============================] - 1s 3ms/step - loss: 0.0733 - accuracy: 0.9782\n",
            "Epoch 1/5\n",
            "750/750 [==============================] - 3s 4ms/step - loss: 1.7506 - accuracy: 0.3751\n",
            "Epoch 2/5\n",
            "750/750 [==============================] - 3s 4ms/step - loss: 0.2461 - accuracy: 0.9282\n",
            "Epoch 3/5\n",
            "750/750 [==============================] - 3s 4ms/step - loss: 0.1297 - accuracy: 0.9603\n",
            "Epoch 4/5\n",
            "750/750 [==============================] - 3s 4ms/step - loss: 0.0933 - accuracy: 0.9708\n",
            "Epoch 5/5\n",
            "750/750 [==============================] - 3s 4ms/step - loss: 0.0705 - accuracy: 0.9782\n",
            "188/188 [==============================] - 1s 3ms/step - loss: 0.0688 - accuracy: 0.9798\n",
            "Epoch 1/5\n",
            "750/750 [==============================] - 3s 3ms/step - loss: 1.8013 - accuracy: 0.3448\n",
            "Epoch 2/5\n",
            "750/750 [==============================] - 2s 3ms/step - loss: 0.2067 - accuracy: 0.9436\n",
            "Epoch 3/5\n",
            "750/750 [==============================] - 3s 3ms/step - loss: 0.1102 - accuracy: 0.9695\n",
            "Epoch 4/5\n",
            "750/750 [==============================] - 2s 3ms/step - loss: 0.0770 - accuracy: 0.9777\n",
            "Epoch 5/5\n",
            "750/750 [==============================] - 3s 3ms/step - loss: 0.0660 - accuracy: 0.9806\n",
            "188/188 [==============================] - 1s 3ms/step - loss: 0.0635 - accuracy: 0.9815\n",
            "Epoch 1/5\n",
            "750/750 [==============================] - 3s 3ms/step - loss: 1.6904 - accuracy: 0.3974\n",
            "Epoch 2/5\n",
            "750/750 [==============================] - 2s 3ms/step - loss: 0.1974 - accuracy: 0.9469\n",
            "Epoch 3/5\n",
            "750/750 [==============================] - 2s 3ms/step - loss: 0.1105 - accuracy: 0.9682\n",
            "Epoch 4/5\n",
            "750/750 [==============================] - 2s 3ms/step - loss: 0.0791 - accuracy: 0.9780\n",
            "Epoch 5/5\n",
            "750/750 [==============================] - 2s 3ms/step - loss: 0.0616 - accuracy: 0.9825\n",
            "188/188 [==============================] - 1s 3ms/step - loss: 0.0733 - accuracy: 0.9780\n",
            "Epoch 1/5\n",
            "750/750 [==============================] - 3s 3ms/step - loss: 1.7211 - accuracy: 0.3820\n",
            "Epoch 2/5\n",
            "750/750 [==============================] - 3s 3ms/step - loss: 0.2216 - accuracy: 0.9398\n",
            "Epoch 3/5\n",
            "750/750 [==============================] - 2s 3ms/step - loss: 0.1137 - accuracy: 0.9672\n",
            "Epoch 4/5\n",
            "750/750 [==============================] - 2s 3ms/step - loss: 0.0845 - accuracy: 0.9748\n",
            "Epoch 5/5\n",
            "750/750 [==============================] - 3s 3ms/step - loss: 0.0659 - accuracy: 0.9801\n",
            "188/188 [==============================] - 1s 3ms/step - loss: 0.0715 - accuracy: 0.9772\n",
            "Epoch 1/5\n",
            "750/750 [==============================] - 3s 3ms/step - loss: 1.7078 - accuracy: 0.3880\n",
            "Epoch 2/5\n",
            "750/750 [==============================] - 2s 3ms/step - loss: 0.1858 - accuracy: 0.9487\n",
            "Epoch 3/5\n",
            "750/750 [==============================] - 2s 3ms/step - loss: 0.0984 - accuracy: 0.9721\n",
            "Epoch 4/5\n",
            "750/750 [==============================] - 3s 3ms/step - loss: 0.0747 - accuracy: 0.9784\n",
            "Epoch 5/5\n",
            "750/750 [==============================] - 3s 3ms/step - loss: 0.0627 - accuracy: 0.9821\n",
            "188/188 [==============================] - 1s 3ms/step - loss: 0.0647 - accuracy: 0.9804\n",
            "Epoch 1/5\n",
            "750/750 [==============================] - 3s 3ms/step - loss: 1.7089 - accuracy: 0.3963\n",
            "Epoch 2/5\n",
            "750/750 [==============================] - 2s 3ms/step - loss: 0.1954 - accuracy: 0.9476\n",
            "Epoch 3/5\n",
            "750/750 [==============================] - 3s 3ms/step - loss: 0.1058 - accuracy: 0.9695\n",
            "Epoch 4/5\n",
            "750/750 [==============================] - 3s 3ms/step - loss: 0.0754 - accuracy: 0.9782\n",
            "Epoch 5/5\n",
            "750/750 [==============================] - 3s 3ms/step - loss: 0.0597 - accuracy: 0.9823\n",
            "188/188 [==============================] - 1s 3ms/step - loss: 0.0584 - accuracy: 0.9829\n",
            "Epoch 1/5\n"
          ],
          "name": "stdout"
        },
        {
          "output_type": "stream",
          "text": [
            "[Parallel(n_jobs=1)]: Done  40 out of  40 | elapsed: 12.9min finished\n"
          ],
          "name": "stderr"
        },
        {
          "output_type": "stream",
          "text": [
            "938/938 [==============================] - 4s 4ms/step - loss: 0.4167 - accuracy: 0.8685\n",
            "Epoch 2/5\n",
            "938/938 [==============================] - 4s 4ms/step - loss: 0.0553 - accuracy: 0.9831\n",
            "Epoch 3/5\n",
            "938/938 [==============================] - 4s 4ms/step - loss: 0.0361 - accuracy: 0.9891\n",
            "Epoch 4/5\n",
            "938/938 [==============================] - 4s 4ms/step - loss: 0.0255 - accuracy: 0.9920\n",
            "Epoch 5/5\n",
            "938/938 [==============================] - 4s 4ms/step - loss: 0.0176 - accuracy: 0.9943\n",
            "Best Score :  0.990233325958252  Parameters are {'activation': 'relu', 'batch_size': 64, 'optimizer': 'RMSprop'}\n"
          ],
          "name": "stdout"
        }
      ]
    },
    {
      "cell_type": "code",
      "metadata": {
        "id": "k8Yi8N_-7yTD"
      },
      "source": [
        ""
      ],
      "execution_count": null,
      "outputs": []
    }
  ]
}