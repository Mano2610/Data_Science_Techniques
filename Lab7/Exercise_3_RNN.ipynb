{
  "nbformat": 4,
  "nbformat_minor": 0,
  "metadata": {
    "accelerator": "GPU",
    "colab": {
      "name": "Exercise_3_RNN.ipynb",
      "provenance": [],
      "collapsed_sections": [],
      "include_colab_link": true
    },
    "kernelspec": {
      "display_name": "Python 3",
      "language": "python",
      "name": "python3"
    },
    "language_info": {
      "codemirror_mode": {
        "name": "ipython",
        "version": 3
      },
      "file_extension": ".py",
      "mimetype": "text/x-python",
      "name": "python",
      "nbconvert_exporter": "python",
      "pygments_lexer": "ipython3",
      "version": "3.6.5"
    }
  },
  "cells": [
    {
      "cell_type": "markdown",
      "metadata": {
        "id": "view-in-github",
        "colab_type": "text"
      },
      "source": [
        "<a href=\"https://colab.research.google.com/github/Mano2610/CE888/blob/main/Lab/Lab7/Exercise_3_RNN.ipynb\" target=\"_parent\"><img src=\"https://colab.research.google.com/assets/colab-badge.svg\" alt=\"Open In Colab\"/></a>"
      ]
    },
    {
      "cell_type": "code",
      "metadata": {
        "colab": {
          "base_uri": "https://localhost:8080/",
          "height": 35
        },
        "id": "2OEAdhW0qjg9",
        "outputId": "87189c23-1773-4fc7-88e9-df7fdc13a133"
      },
      "source": [
        "import keras\n",
        "keras.__version__"
      ],
      "execution_count": 1,
      "outputs": [
        {
          "output_type": "execute_result",
          "data": {
            "application/vnd.google.colaboratory.intrinsic+json": {
              "type": "string"
            },
            "text/plain": [
              "'2.4.3'"
            ]
          },
          "metadata": {
            "tags": []
          },
          "execution_count": 1
        }
      ]
    },
    {
      "cell_type": "code",
      "metadata": {
        "colab": {
          "base_uri": "https://localhost:8080/"
        },
        "id": "TYsNtFxgqjhC",
        "outputId": "b0ef4d9e-65dd-4e32-8c85-bf8ef1a2a666"
      },
      "source": [
        "from keras.preprocessing.text import Tokenizer\n",
        "samples = ['The cat sat on the mat.', 'The dog ate my homework.']\n",
        "\n",
        "# We create a tokenizer, configured to only take into account the top-1000 most common words\n",
        "tokenizer = Tokenizer(num_words=1000)\n",
        "\n",
        "# This builds the word index\n",
        "tokenizer.fit_on_texts(samples)\n",
        "\n",
        "# This turns strings into lists of integer indices.\n",
        "sequences = tokenizer.texts_to_sequences(samples)\n",
        "\n",
        "# You could also directly get the one-hot binary representations.\n",
        "# Note that other vectorization modes than one-hot encoding are supported!\n",
        "one_hot_results = tokenizer.texts_to_matrix(samples, mode='binary')\n",
        "\n",
        "# This is how you can recover the word index that was computed\n",
        "word_index = tokenizer.word_index\n",
        "print('Found %s unique tokens.' % len(word_index))"
      ],
      "execution_count": 2,
      "outputs": [
        {
          "output_type": "stream",
          "text": [
            "Found 9 unique tokens.\n"
          ],
          "name": "stdout"
        }
      ]
    },
    {
      "cell_type": "code",
      "metadata": {
        "colab": {
          "base_uri": "https://localhost:8080/"
        },
        "id": "_1bFuvqKqjhF",
        "outputId": "7daf198e-8b24-4b1f-ccaf-8263586ec7bc"
      },
      "source": [
        "one_hot_results"
      ],
      "execution_count": 3,
      "outputs": [
        {
          "output_type": "execute_result",
          "data": {
            "text/plain": [
              "array([[0., 1., 1., ..., 0., 0., 0.],\n",
              "       [0., 1., 0., ..., 0., 0., 0.]])"
            ]
          },
          "metadata": {
            "tags": []
          },
          "execution_count": 3
        }
      ]
    },
    {
      "cell_type": "markdown",
      "metadata": {
        "id": "95o1mdJkqjhI"
      },
      "source": [
        "Using word-embeddings "
      ]
    },
    {
      "cell_type": "code",
      "metadata": {
        "colab": {
          "base_uri": "https://localhost:8080/"
        },
        "id": "DSAIqfdoqjhJ",
        "outputId": "a5afbade-af3c-4bc4-c746-b9fab2a8847c"
      },
      "source": [
        "from keras.datasets import imdb\n",
        "from keras.preprocessing import sequence\n",
        "\n",
        "max_features = 10000\n",
        "maxlen = 500\n",
        "batch_size = 32\n",
        "print('Loading data...')\n",
        "(input_train, y_train), (input_test, y_test) = imdb.load_data(num_words=max_features)\n",
        "print(len(input_train), 'train sequences')\n",
        "print(len(input_test), 'test sequences')\n",
        "print('Pad sequences (samples x time)')\n",
        "input_train = sequence.pad_sequences(input_train, maxlen=maxlen)\n",
        "input_test = sequence.pad_sequences(input_test, maxlen=maxlen)\n",
        "print('input_train shape:', input_train.shape)\n",
        "print('input_test shape:', input_test.shape)"
      ],
      "execution_count": 4,
      "outputs": [
        {
          "output_type": "stream",
          "text": [
            "Loading data...\n",
            "Downloading data from https://storage.googleapis.com/tensorflow/tf-keras-datasets/imdb.npz\n",
            "17465344/17464789 [==============================] - 0s 0us/step\n"
          ],
          "name": "stdout"
        },
        {
          "output_type": "stream",
          "text": [
            "<string>:6: VisibleDeprecationWarning: Creating an ndarray from ragged nested sequences (which is a list-or-tuple of lists-or-tuples-or ndarrays with different lengths or shapes) is deprecated. If you meant to do this, you must specify 'dtype=object' when creating the ndarray\n",
            "/usr/local/lib/python3.7/dist-packages/tensorflow/python/keras/datasets/imdb.py:159: VisibleDeprecationWarning: Creating an ndarray from ragged nested sequences (which is a list-or-tuple of lists-or-tuples-or ndarrays with different lengths or shapes) is deprecated. If you meant to do this, you must specify 'dtype=object' when creating the ndarray\n",
            "  x_train, y_train = np.array(xs[:idx]), np.array(labels[:idx])\n",
            "/usr/local/lib/python3.7/dist-packages/tensorflow/python/keras/datasets/imdb.py:160: VisibleDeprecationWarning: Creating an ndarray from ragged nested sequences (which is a list-or-tuple of lists-or-tuples-or ndarrays with different lengths or shapes) is deprecated. If you meant to do this, you must specify 'dtype=object' when creating the ndarray\n",
            "  x_test, y_test = np.array(xs[idx:]), np.array(labels[idx:])\n"
          ],
          "name": "stderr"
        },
        {
          "output_type": "stream",
          "text": [
            "25000 train sequences\n",
            "25000 test sequences\n",
            "Pad sequences (samples x time)\n",
            "input_train shape: (25000, 500)\n",
            "input_test shape: (25000, 500)\n"
          ],
          "name": "stdout"
        }
      ]
    },
    {
      "cell_type": "markdown",
      "metadata": {
        "id": "5ssh97qDqjhM"
      },
      "source": [
        "### Training the model with Embedding and SimpleRNN layers"
      ]
    },
    {
      "cell_type": "code",
      "metadata": {
        "colab": {
          "base_uri": "https://localhost:8080/"
        },
        "id": "t_lIlBilqjhN",
        "outputId": "22acd5bd-b199-44eb-8170-ba2912c78306"
      },
      "source": [
        "from keras.layers import Dense\n",
        "from keras.layers import Embedding, SimpleRNN\n",
        "from keras.models import Sequential\n",
        "\n",
        "model = Sequential()\n",
        "model.add(Embedding(max_features, 32))\n",
        "model.add(SimpleRNN(32))\n",
        "model.add(Dense(1, activation='sigmoid'))\n",
        "model.summary()\n",
        "model.compile(optimizer='rmsprop', loss='binary_crossentropy', metrics=['acc'])\n",
        "history = model.fit(input_train, y_train, \n",
        "                    epochs=10,\n",
        "                    batch_size=128,\n",
        "                    validation_split=0.2)\n"
      ],
      "execution_count": 5,
      "outputs": [
        {
          "output_type": "stream",
          "text": [
            "Model: \"sequential\"\n",
            "_________________________________________________________________\n",
            "Layer (type)                 Output Shape              Param #   \n",
            "=================================================================\n",
            "embedding (Embedding)        (None, None, 32)          320000    \n",
            "_________________________________________________________________\n",
            "simple_rnn (SimpleRNN)       (None, 32)                2080      \n",
            "_________________________________________________________________\n",
            "dense (Dense)                (None, 1)                 33        \n",
            "=================================================================\n",
            "Total params: 322,113\n",
            "Trainable params: 322,113\n",
            "Non-trainable params: 0\n",
            "_________________________________________________________________\n",
            "Epoch 1/10\n",
            "157/157 [==============================] - 78s 473ms/step - loss: 0.6758 - acc: 0.5665 - val_loss: 0.5717 - val_acc: 0.6936\n",
            "Epoch 2/10\n",
            "157/157 [==============================] - 74s 472ms/step - loss: 0.4313 - acc: 0.8187 - val_loss: 0.5223 - val_acc: 0.7268\n",
            "Epoch 3/10\n",
            "157/157 [==============================] - 73s 466ms/step - loss: 0.3182 - acc: 0.8690 - val_loss: 0.3847 - val_acc: 0.8326\n",
            "Epoch 4/10\n",
            "157/157 [==============================] - 73s 465ms/step - loss: 0.2443 - acc: 0.9083 - val_loss: 0.3784 - val_acc: 0.8374\n",
            "Epoch 5/10\n",
            "157/157 [==============================] - 73s 465ms/step - loss: 0.1880 - acc: 0.9290 - val_loss: 0.4499 - val_acc: 0.8048\n",
            "Epoch 6/10\n",
            "157/157 [==============================] - 74s 474ms/step - loss: 0.1494 - acc: 0.9473 - val_loss: 0.3876 - val_acc: 0.8506\n",
            "Epoch 7/10\n",
            "157/157 [==============================] - 74s 469ms/step - loss: 0.0960 - acc: 0.9688 - val_loss: 0.4481 - val_acc: 0.8436\n",
            "Epoch 8/10\n",
            "157/157 [==============================] - 73s 466ms/step - loss: 0.0584 - acc: 0.9826 - val_loss: 0.4770 - val_acc: 0.8586\n",
            "Epoch 9/10\n",
            "157/157 [==============================] - 73s 463ms/step - loss: 0.0337 - acc: 0.9907 - val_loss: 0.5361 - val_acc: 0.8370\n",
            "Epoch 10/10\n",
            "157/157 [==============================] - 73s 463ms/step - loss: 0.0224 - acc: 0.9939 - val_loss: 0.5755 - val_acc: 0.8224\n"
          ],
          "name": "stdout"
        }
      ]
    },
    {
      "cell_type": "code",
      "metadata": {
        "colab": {
          "base_uri": "https://localhost:8080/",
          "height": 545
        },
        "id": "w03gEZ2RqjhQ",
        "outputId": "3c98d87d-d26b-4a83-fa61-bdc1e18c88f3"
      },
      "source": [
        "import matplotlib.pyplot as plt\n",
        "\n",
        "acc = history.history['acc']\n",
        "val_acc = history.history['val_acc']\n",
        "loss = history.history['loss']\n",
        "val_loss = history.history['val_loss']\n",
        "\n",
        "epochs = range(1, len(acc) + 1)\n",
        "\n",
        "plt.plot(epochs, acc, 'bo', label='Training acc')\n",
        "plt.plot(epochs, val_acc, 'b', label='Validation acc')\n",
        "plt.title('Training and validation accuracy')\n",
        "plt.legend()\n",
        "\n",
        "plt.figure()\n",
        "\n",
        "plt.plot(epochs, loss, 'bo', label='Training loss')\n",
        "plt.plot(epochs, val_loss, 'b', label='Validation loss')\n",
        "plt.title('Training and validation loss')\n",
        "plt.legend()\n",
        "\n",
        "plt.show()"
      ],
      "execution_count": 6,
      "outputs": [
        {
          "output_type": "display_data",
          "data": {
            "image/png": "[encoded data removed]",
            "text/plain": [
              "<Figure size 432x288 with 1 Axes>"
            ]
          },
          "metadata": {
            "tags": [],
            "needs_background": "light"
          }
        },
        {
          "output_type": "display_data",
          "data": {
            "image/png": "[encoded data removed]",
            "text/plain": [
              "<Figure size 432x288 with 1 Axes>"
            ]
          },
          "metadata": {
            "tags": [],
            "needs_background": "light"
          }
        }
      ]
    },
    {
      "cell_type": "markdown",
      "metadata": {
        "id": "mz8CfgKcqjhT"
      },
      "source": [
        "### Training the model with Embedding and SimpleRNN layers"
      ]
    },
    {
      "cell_type": "code",
      "metadata": {
        "colab": {
          "base_uri": "https://localhost:8080/"
        },
        "id": "U_wjH-KGqjhU",
        "outputId": "94af93d4-9ce7-4a63-db71-785dcfe35b8e"
      },
      "source": [
        "from keras.layers import LSTM\n",
        "\n",
        "model = Sequential()\n",
        "model.add(Embedding(max_features, 32))\n",
        "model.add(LSTM(32))\n",
        "model.add(Dense(1, activation='sigmoid'))\n",
        "model.compile(optimizer='rmsprop',\n",
        "loss='binary_crossentropy',\n",
        "metrics=['acc'])\n",
        "history = model.fit(input_train, y_train,\n",
        "                    epochs=10,\n",
        "                    batch_size=128,\n",
        "                    validation_split=0.2)"
      ],
      "execution_count": 7,
      "outputs": [
        {
          "output_type": "stream",
          "text": [
            "Epoch 1/10\n",
            "157/157 [==============================] - 43s 96ms/step - loss: 0.5786 - acc: 0.6961 - val_loss: 0.3286 - val_acc: 0.8662\n",
            "Epoch 2/10\n",
            "157/157 [==============================] - 14s 92ms/step - loss: 0.3009 - acc: 0.8829 - val_loss: 0.3423 - val_acc: 0.8572\n",
            "Epoch 3/10\n",
            "157/157 [==============================] - 14s 92ms/step - loss: 0.2371 - acc: 0.9104 - val_loss: 0.3495 - val_acc: 0.8562\n",
            "Epoch 4/10\n",
            "157/157 [==============================] - 14s 92ms/step - loss: 0.1955 - acc: 0.9288 - val_loss: 0.4330 - val_acc: 0.8698\n",
            "Epoch 5/10\n",
            "157/157 [==============================] - 15s 93ms/step - loss: 0.1743 - acc: 0.9367 - val_loss: 0.3282 - val_acc: 0.8698\n",
            "Epoch 6/10\n",
            "157/157 [==============================] - 14s 92ms/step - loss: 0.1503 - acc: 0.9475 - val_loss: 0.3298 - val_acc: 0.8864\n",
            "Epoch 7/10\n",
            "157/157 [==============================] - 15s 93ms/step - loss: 0.1299 - acc: 0.9542 - val_loss: 0.5267 - val_acc: 0.8234\n",
            "Epoch 8/10\n",
            "157/157 [==============================] - 14s 92ms/step - loss: 0.1243 - acc: 0.9576 - val_loss: 0.3366 - val_acc: 0.8872\n",
            "Epoch 9/10\n",
            "157/157 [==============================] - 15s 93ms/step - loss: 0.1155 - acc: 0.9583 - val_loss: 0.3979 - val_acc: 0.8862\n",
            "Epoch 10/10\n",
            "157/157 [==============================] - 15s 93ms/step - loss: 0.1048 - acc: 0.9647 - val_loss: 0.3911 - val_acc: 0.8792\n"
          ],
          "name": "stdout"
        }
      ]
    },
    {
      "cell_type": "code",
      "metadata": {
        "colab": {
          "base_uri": "https://localhost:8080/",
          "height": 545
        },
        "id": "HU4eGq-DqjhX",
        "outputId": "3233ced5-0b7e-4fa5-d401-eeae2d15ecd2"
      },
      "source": [
        "import matplotlib.pyplot as plt\n",
        "\n",
        "acc = history.history['acc']\n",
        "val_acc = history.history['val_acc']\n",
        "loss = history.history['loss']\n",
        "val_loss = history.history['val_loss']\n",
        "\n",
        "epochs = range(1, len(acc) + 1)\n",
        "\n",
        "plt.plot(epochs, acc, 'bo', label='Training acc')\n",
        "plt.plot(epochs, val_acc, 'b', label='Validation acc')\n",
        "plt.title('Training and validation accuracy')\n",
        "plt.legend()\n",
        "\n",
        "plt.figure()\n",
        "\n",
        "plt.plot(epochs, loss, 'bo', label='Training loss')\n",
        "plt.plot(epochs, val_loss, 'b', label='Validation loss')\n",
        "plt.title('Training and validation loss')\n",
        "plt.legend()\n",
        "\n",
        "plt.show()"
      ],
      "execution_count": 8,
      "outputs": [
        {
          "output_type": "display_data",
          "data": {
            "image/png": "[encoded data removed]",
            "text/plain": [
              "<Figure size 432x288 with 1 Axes>"
            ]
          },
          "metadata": {
            "tags": [],
            "needs_background": "light"
          }
        },
        {
          "output_type": "display_data",
          "data": {
            "image/png": "[encoded data removed]",
            "text/plain": [
              "<Figure size 432x288 with 1 Axes>"
            ]
          },
          "metadata": {
            "tags": [],
            "needs_background": "light"
          }
        }
      ]
    },
    {
      "cell_type": "markdown",
      "metadata": {
        "id": "r69U5tFUZ82R"
      },
      "source": [
        "### Task 3: \n",
        "\n",
        "Please consider this Time Series Prediction with LSTM Recurrent Neural Networks. We can see that the LSTM model in the code below has an average error of about 23 passengers (in thousands) on the training dataset, and about 53 passengers (in thousands) on the test dataset. Not that bad. Can you please improve the performance?\n",
        "\n",
        "#### Dataset Discription\n",
        "The problem we are going to look at in this post is the International Airline Passengers prediction problem.\n",
        "This is a problem where, given a year and a month, the task is to predict the number of international airline passengers in units of 1,000. The data ranges from January 1949 to December 1960, or 12 years, with 144 observations.\n",
        "\n"
      ]
    },
    {
      "cell_type": "code",
      "metadata": {
        "colab": {
          "base_uri": "https://localhost:8080/",
          "height": 1000
        },
        "id": "w1vSusoyatCW",
        "outputId": "0ded30a3-f3ae-43fd-c924-0adcec7c1b5b"
      },
      "source": [
        "import numpy\n",
        "import math\n",
        "import matplotlib.pyplot as plt\n",
        "from pandas import read_csv\n",
        "from keras.models import Sequential\n",
        "from keras.layers import Dense\n",
        "from keras.layers import LSTM\n",
        "from sklearn.preprocessing import MinMaxScaler\n",
        "from sklearn.metrics import mean_squared_error\n",
        "# convert an array of values into a dataset matrix\n",
        "def create_dataset(dataset, look_back=1):\n",
        "\tdataX, dataY = [], []\n",
        "\tfor i in range(len(dataset)-look_back-1):\n",
        "\t\ta = dataset[i:(i+look_back), 0]\n",
        "\t\tdataX.append(a)\n",
        "\t\tdataY.append(dataset[i + look_back, 0])\n",
        "\treturn numpy.array(dataX), numpy.array(dataY)\n",
        "# fix random seed for reproducibility\n",
        "numpy.random.seed(7)\n",
        "# load the dataset\n",
        "dataframe = read_csv('https://raw.githubusercontent.com/jbrownlee/Datasets/master/airline-passengers.csv', usecols=[1], engine='python')\n",
        "dataset = dataframe.values\n",
        "dataset = dataset.astype('float32')\n",
        "# normalize the dataset\n",
        "scaler = MinMaxScaler(feature_range=(0, 1))\n",
        "dataset = scaler.fit_transform(dataset)\n",
        "# split into train and test sets\n",
        "train_size = int(len(dataset) * 0.67)\n",
        "test_size = len(dataset) - train_size\n",
        "train, test = dataset[0:train_size,:], dataset[train_size:len(dataset),:]\n",
        "# reshape into X=t and Y=t+1\n",
        "look_back = 1\n",
        "trainX, trainY = create_dataset(train, look_back)\n",
        "testX, testY = create_dataset(test, look_back)\n",
        "# reshape input to be [samples, time steps, features]\n",
        "trainX = numpy.reshape(trainX, (trainX.shape[0], 1, trainX.shape[1]))\n",
        "testX = numpy.reshape(testX, (testX.shape[0], 1, testX.shape[1]))\n",
        "# create and fit the LSTM network\n",
        "model = Sequential()\n",
        "model.add(LSTM(4, input_shape=(1, look_back)))\n",
        "model.add(Dense(1))\n",
        "model.compile(loss='mean_squared_error', optimizer='adam')\n",
        "model.fit(trainX, trainY, epochs=100, batch_size=1, verbose=2)\n",
        "# make predictions\n",
        "trainPredict = model.predict(trainX)\n",
        "testPredict = model.predict(testX)\n",
        "# invert predictions\n",
        "trainPredict = scaler.inverse_transform(trainPredict)\n",
        "trainY = scaler.inverse_transform([trainY])\n",
        "testPredict = scaler.inverse_transform(testPredict)\n",
        "testY = scaler.inverse_transform([testY])\n",
        "# calculate root mean squared error\n",
        "trainScore = math.sqrt(mean_squared_error(trainY[0], trainPredict[:,0]))\n",
        "print('Train Score: %.2f RMSE' % (trainScore))\n",
        "testScore = math.sqrt(mean_squared_error(testY[0], testPredict[:,0]))\n",
        "print('Test Score: %.2f RMSE' % (testScore))\n",
        "# shift train predictions for plotting\n",
        "trainPredictPlot = numpy.empty_like(dataset)\n",
        "trainPredictPlot[:, :] = numpy.nan\n",
        "trainPredictPlot[look_back:len(trainPredict)+look_back, :] = trainPredict\n",
        "# shift test predictions for plotting\n",
        "testPredictPlot = numpy.empty_like(dataset)\n",
        "testPredictPlot[:, :] = numpy.nan\n",
        "testPredictPlot[len(trainPredict)+(look_back*2)+1:len(dataset)-1, :] = testPredict\n",
        "# plot baseline and predictions\n",
        "plt.plot(scaler.inverse_transform(dataset))\n",
        "plt.plot(trainPredictPlot)\n",
        "plt.plot(testPredictPlot)\n",
        "plt.show()"
      ],
      "execution_count": 9,
      "outputs": [
        {
          "output_type": "stream",
          "text": [
            "Epoch 1/100\n",
            "94/94 - 2s - loss: 0.0489\n",
            "Epoch 2/100\n",
            "94/94 - 0s - loss: 0.0251\n",
            "Epoch 3/100\n",
            "94/94 - 0s - loss: 0.0192\n",
            "Epoch 4/100\n",
            "94/94 - 0s - loss: 0.0176\n",
            "Epoch 5/100\n",
            "94/94 - 0s - loss: 0.0166\n",
            "Epoch 6/100\n",
            "94/94 - 0s - loss: 0.0157\n",
            "Epoch 7/100\n",
            "94/94 - 0s - loss: 0.0148\n",
            "Epoch 8/100\n",
            "94/94 - 0s - loss: 0.0138\n",
            "Epoch 9/100\n",
            "94/94 - 0s - loss: 0.0129\n",
            "Epoch 10/100\n",
            "94/94 - 0s - loss: 0.0119\n",
            "Epoch 11/100\n",
            "94/94 - 0s - loss: 0.0110\n",
            "Epoch 12/100\n",
            "94/94 - 0s - loss: 0.0099\n",
            "Epoch 13/100\n",
            "94/94 - 0s - loss: 0.0090\n",
            "Epoch 14/100\n",
            "94/94 - 0s - loss: 0.0081\n",
            "Epoch 15/100\n",
            "94/94 - 0s - loss: 0.0072\n",
            "Epoch 16/100\n",
            "94/94 - 0s - loss: 0.0063\n",
            "Epoch 17/100\n",
            "94/94 - 0s - loss: 0.0056\n",
            "Epoch 18/100\n",
            "94/94 - 0s - loss: 0.0048\n",
            "Epoch 19/100\n",
            "94/94 - 0s - loss: 0.0043\n",
            "Epoch 20/100\n",
            "94/94 - 0s - loss: 0.0037\n",
            "Epoch 21/100\n",
            "94/94 - 0s - loss: 0.0033\n",
            "Epoch 22/100\n",
            "94/94 - 0s - loss: 0.0029\n",
            "Epoch 23/100\n",
            "94/94 - 0s - loss: 0.0027\n",
            "Epoch 24/100\n",
            "94/94 - 0s - loss: 0.0024\n",
            "Epoch 25/100\n",
            "94/94 - 0s - loss: 0.0023\n",
            "Epoch 26/100\n",
            "94/94 - 0s - loss: 0.0022\n",
            "Epoch 27/100\n",
            "94/94 - 0s - loss: 0.0022\n",
            "Epoch 28/100\n",
            "94/94 - 0s - loss: 0.0021\n",
            "Epoch 29/100\n",
            "94/94 - 0s - loss: 0.0021\n",
            "Epoch 30/100\n",
            "94/94 - 0s - loss: 0.0021\n",
            "Epoch 31/100\n",
            "94/94 - 0s - loss: 0.0020\n",
            "Epoch 32/100\n",
            "94/94 - 0s - loss: 0.0021\n",
            "Epoch 33/100\n",
            "94/94 - 0s - loss: 0.0020\n",
            "Epoch 34/100\n",
            "94/94 - 0s - loss: 0.0020\n",
            "Epoch 35/100\n",
            "94/94 - 0s - loss: 0.0020\n",
            "Epoch 36/100\n",
            "94/94 - 0s - loss: 0.0021\n",
            "Epoch 37/100\n",
            "94/94 - 0s - loss: 0.0020\n",
            "Epoch 38/100\n",
            "94/94 - 0s - loss: 0.0020\n",
            "Epoch 39/100\n",
            "94/94 - 0s - loss: 0.0020\n",
            "Epoch 40/100\n",
            "94/94 - 0s - loss: 0.0020\n",
            "Epoch 41/100\n",
            "94/94 - 0s - loss: 0.0020\n",
            "Epoch 42/100\n",
            "94/94 - 0s - loss: 0.0020\n",
            "Epoch 43/100\n",
            "94/94 - 0s - loss: 0.0020\n",
            "Epoch 44/100\n",
            "94/94 - 0s - loss: 0.0021\n",
            "Epoch 45/100\n",
            "94/94 - 0s - loss: 0.0020\n",
            "Epoch 46/100\n",
            "94/94 - 0s - loss: 0.0020\n",
            "Epoch 47/100\n",
            "94/94 - 0s - loss: 0.0021\n",
            "Epoch 48/100\n",
            "94/94 - 0s - loss: 0.0020\n",
            "Epoch 49/100\n",
            "94/94 - 0s - loss: 0.0020\n",
            "Epoch 50/100\n",
            "94/94 - 0s - loss: 0.0020\n",
            "Epoch 51/100\n",
            "94/94 - 0s - loss: 0.0020\n",
            "Epoch 52/100\n",
            "94/94 - 0s - loss: 0.0020\n",
            "Epoch 53/100\n",
            "94/94 - 0s - loss: 0.0021\n",
            "Epoch 54/100\n",
            "94/94 - 0s - loss: 0.0021\n",
            "Epoch 55/100\n",
            "94/94 - 0s - loss: 0.0020\n",
            "Epoch 56/100\n",
            "94/94 - 0s - loss: 0.0020\n",
            "Epoch 57/100\n",
            "94/94 - 0s - loss: 0.0020\n",
            "Epoch 58/100\n",
            "94/94 - 0s - loss: 0.0019\n",
            "Epoch 59/100\n",
            "94/94 - 0s - loss: 0.0020\n",
            "Epoch 60/100\n",
            "94/94 - 0s - loss: 0.0020\n",
            "Epoch 61/100\n",
            "94/94 - 0s - loss: 0.0020\n",
            "Epoch 62/100\n",
            "94/94 - 0s - loss: 0.0020\n",
            "Epoch 63/100\n",
            "94/94 - 0s - loss: 0.0019\n",
            "Epoch 64/100\n",
            "94/94 - 0s - loss: 0.0021\n",
            "Epoch 65/100\n",
            "94/94 - 0s - loss: 0.0020\n",
            "Epoch 66/100\n",
            "94/94 - 0s - loss: 0.0020\n",
            "Epoch 67/100\n",
            "94/94 - 0s - loss: 0.0020\n",
            "Epoch 68/100\n",
            "94/94 - 0s - loss: 0.0021\n",
            "Epoch 69/100\n",
            "94/94 - 0s - loss: 0.0021\n",
            "Epoch 70/100\n",
            "94/94 - 0s - loss: 0.0020\n",
            "Epoch 71/100\n",
            "94/94 - 0s - loss: 0.0020\n",
            "Epoch 72/100\n",
            "94/94 - 0s - loss: 0.0021\n",
            "Epoch 73/100\n",
            "94/94 - 0s - loss: 0.0021\n",
            "Epoch 74/100\n",
            "94/94 - 0s - loss: 0.0020\n",
            "Epoch 75/100\n",
            "94/94 - 0s - loss: 0.0020\n",
            "Epoch 76/100\n",
            "94/94 - 0s - loss: 0.0021\n",
            "Epoch 77/100\n",
            "94/94 - 0s - loss: 0.0021\n",
            "Epoch 78/100\n",
            "94/94 - 0s - loss: 0.0021\n",
            "Epoch 79/100\n",
            "94/94 - 0s - loss: 0.0020\n",
            "Epoch 80/100\n",
            "94/94 - 0s - loss: 0.0020\n",
            "Epoch 81/100\n",
            "94/94 - 0s - loss: 0.0020\n",
            "Epoch 82/100\n",
            "94/94 - 0s - loss: 0.0021\n",
            "Epoch 83/100\n",
            "94/94 - 0s - loss: 0.0020\n",
            "Epoch 84/100\n",
            "94/94 - 0s - loss: 0.0020\n",
            "Epoch 85/100\n",
            "94/94 - 0s - loss: 0.0021\n",
            "Epoch 86/100\n",
            "94/94 - 0s - loss: 0.0020\n",
            "Epoch 87/100\n",
            "94/94 - 0s - loss: 0.0020\n",
            "Epoch 88/100\n",
            "94/94 - 0s - loss: 0.0020\n",
            "Epoch 89/100\n",
            "94/94 - 0s - loss: 0.0020\n",
            "Epoch 90/100\n",
            "94/94 - 0s - loss: 0.0020\n",
            "Epoch 91/100\n",
            "94/94 - 0s - loss: 0.0020\n",
            "Epoch 92/100\n",
            "94/94 - 0s - loss: 0.0020\n",
            "Epoch 93/100\n",
            "94/94 - 0s - loss: 0.0020\n",
            "Epoch 94/100\n",
            "94/94 - 0s - loss: 0.0020\n",
            "Epoch 95/100\n",
            "94/94 - 0s - loss: 0.0020\n",
            "Epoch 96/100\n",
            "94/94 - 0s - loss: 0.0020\n",
            "Epoch 97/100\n",
            "94/94 - 0s - loss: 0.0020\n",
            "Epoch 98/100\n",
            "94/94 - 0s - loss: 0.0020\n",
            "Epoch 99/100\n",
            "94/94 - 0s - loss: 0.0020\n",
            "Epoch 100/100\n",
            "94/94 - 0s - loss: 0.0020\n",
            "Train Score: 22.74 RMSE\n",
            "Test Score: 48.98 RMSE\n"
          ],
          "name": "stdout"
        },
        {
          "output_type": "display_data",
          "data": {
            "image/png": "[encoded data removed]",
            "text/plain": [
              "<Figure size 432x288 with 1 Axes>"
            ]
          },
          "metadata": {
            "tags": [],
            "needs_background": "light"
          }
        }
      ]
    },
    {
      "cell_type": "code",
      "metadata": {
        "colab": {
          "base_uri": "https://localhost:8080/",
          "height": 1000
        },
        "id": "ejZfCnR05yLz",
        "outputId": "4c1b852c-df5b-405c-c848-1998d40d3a9d"
      },
      "source": [
        "def create_dataset(dataset, look_back=1):\n",
        "    dataX, dataY = [], []\n",
        "    for i in range(len(dataset)-look_back-1):\n",
        "        a = dataset[i:(i+look_back), 0]\n",
        "        dataX.append(a)\n",
        "        dataY.append(dataset[i + look_back, 0])\n",
        "    return numpy.array(dataX), numpy.array(dataY)\n",
        "# fix random seed for reproducibility\n",
        "numpy.random.seed(7)\n",
        "# load the dataset\n",
        "dataframe = read_csv('https://raw.githubusercontent.com/jbrownlee/Datasets/master/airline-passengers.csv', usecols=[1], engine='python')\n",
        "dataset = dataframe.values\n",
        "dataset = dataset.astype('float32')\n",
        "# normalize the dataset\n",
        "scaler = MinMaxScaler(feature_range=(0, 1))\n",
        "dataset = scaler.fit_transform(dataset)\n",
        "# split into train and test sets\n",
        "train_size = int(len(dataset) * 0.67)\n",
        "test_size = len(dataset) - train_size\n",
        "train, test = dataset[0:train_size,:], dataset[train_size:len(dataset),:]\n",
        "# reshape into X=t and Y=t+1\n",
        "look_back = 1\n",
        "trainX, trainY = create_dataset(train, look_back)\n",
        "testX, testY = create_dataset(test, look_back)\n",
        "# reshape input to be [samples, time steps, features]\n",
        "trainX = numpy.reshape(trainX, (trainX.shape[0], 1, trainX.shape[1]))\n",
        "testX = numpy.reshape(testX, (testX.shape[0], 1, testX.shape[1]))\n",
        "# create and fit the LSTM network\n",
        "model = Sequential()\n",
        "model.add(LSTM(40, input_shape=(1, look_back)))\n",
        "model.add(Dense(1, activation='sigmoid'))\n",
        "model.compile(loss='binary_crossentropy', optimizer='adam', metrics=['accuracy'])\n",
        "model.fit(trainX, trainY, epochs=100, batch_size=1, verbose=2)\n",
        "# make predictions\n",
        "trainPredict = model.predict(trainX)\n",
        "testPredict = model.predict(testX)\n",
        "# invert predictions\n",
        "trainPredict = scaler.inverse_transform(trainPredict)\n",
        "trainY = scaler.inverse_transform([trainY])\n",
        "testPredict = scaler.inverse_transform(testPredict)\n",
        "testY = scaler.inverse_transform([testY])\n",
        "# calculate root mean squared error\n",
        "trainScore = math.sqrt(mean_squared_error(trainY[0], trainPredict[:,0]))\n",
        "print('Train Score: %.2f RMSE' % (trainScore))\n",
        "testScore = math.sqrt(mean_squared_error(testY[0], testPredict[:,0]))\n",
        "print('Test Score: %.2f RMSE' % (testScore))\n",
        "# shift train predictions for plotting\n",
        "trainPredictPlot = numpy.empty_like(dataset)\n",
        "trainPredictPlot[:, :] = numpy.nan\n",
        "trainPredictPlot[look_back:len(trainPredict)+look_back, :] = trainPredict\n",
        "# shift test predictions for plotting\n",
        "testPredictPlot = numpy.empty_like(dataset)\n",
        "testPredictPlot[:, :] = numpy.nan\n",
        "testPredictPlot[len(trainPredict)+(look_back*2)+1:len(dataset)-1, :] = testPredict\n",
        "# plot baseline and predictions\n",
        "plt.plot(scaler.inverse_transform(dataset))\n",
        "plt.plot(trainPredictPlot)\n",
        "plt.plot(testPredictPlot)\n",
        "plt.show()"
      ],
      "execution_count": 11,
      "outputs": [
        {
          "output_type": "stream",
          "text": [
            "Epoch 1/100\n",
            "94/94 - 2s - loss: 0.6510 - accuracy: 0.0106\n",
            "Epoch 2/100\n",
            "94/94 - 0s - loss: 0.5676 - accuracy: 0.0106\n",
            "Epoch 3/100\n",
            "94/94 - 0s - loss: 0.5337 - accuracy: 0.0106\n",
            "Epoch 4/100\n",
            "94/94 - 0s - loss: 0.5246 - accuracy: 0.0106\n",
            "Epoch 5/100\n",
            "94/94 - 0s - loss: 0.5194 - accuracy: 0.0106\n",
            "Epoch 6/100\n",
            "94/94 - 0s - loss: 0.5147 - accuracy: 0.0106\n",
            "Epoch 7/100\n",
            "94/94 - 0s - loss: 0.5103 - accuracy: 0.0106\n",
            "Epoch 8/100\n",
            "94/94 - 0s - loss: 0.5065 - accuracy: 0.0106\n",
            "Epoch 9/100\n",
            "94/94 - 0s - loss: 0.5022 - accuracy: 0.0106\n",
            "Epoch 10/100\n",
            "94/94 - 0s - loss: 0.4984 - accuracy: 0.0106\n",
            "Epoch 11/100\n",
            "94/94 - 0s - loss: 0.4947 - accuracy: 0.0106\n",
            "Epoch 12/100\n",
            "94/94 - 0s - loss: 0.4907 - accuracy: 0.0106\n",
            "Epoch 13/100\n",
            "94/94 - 0s - loss: 0.4869 - accuracy: 0.0106\n",
            "Epoch 14/100\n",
            "94/94 - 0s - loss: 0.4834 - accuracy: 0.0106\n",
            "Epoch 15/100\n",
            "94/94 - 0s - loss: 0.4802 - accuracy: 0.0106\n",
            "Epoch 16/100\n",
            "94/94 - 0s - loss: 0.4771 - accuracy: 0.0106\n",
            "Epoch 17/100\n",
            "94/94 - 0s - loss: 0.4747 - accuracy: 0.0106\n",
            "Epoch 18/100\n",
            "94/94 - 0s - loss: 0.4725 - accuracy: 0.0106\n",
            "Epoch 19/100\n",
            "94/94 - 0s - loss: 0.4711 - accuracy: 0.0106\n",
            "Epoch 20/100\n",
            "94/94 - 0s - loss: 0.4700 - accuracy: 0.0106\n",
            "Epoch 21/100\n",
            "94/94 - 0s - loss: 0.4691 - accuracy: 0.0106\n",
            "Epoch 22/100\n",
            "94/94 - 0s - loss: 0.4686 - accuracy: 0.0106\n",
            "Epoch 23/100\n",
            "94/94 - 0s - loss: 0.4686 - accuracy: 0.0106\n",
            "Epoch 24/100\n",
            "94/94 - 0s - loss: 0.4681 - accuracy: 0.0106\n",
            "Epoch 25/100\n",
            "94/94 - 0s - loss: 0.4682 - accuracy: 0.0106\n",
            "Epoch 26/100\n",
            "94/94 - 0s - loss: 0.4679 - accuracy: 0.0106\n",
            "Epoch 27/100\n",
            "94/94 - 0s - loss: 0.4679 - accuracy: 0.0106\n",
            "Epoch 28/100\n",
            "94/94 - 0s - loss: 0.4679 - accuracy: 0.0106\n",
            "Epoch 29/100\n",
            "94/94 - 0s - loss: 0.4678 - accuracy: 0.0106\n",
            "Epoch 30/100\n",
            "94/94 - 0s - loss: 0.4678 - accuracy: 0.0106\n",
            "Epoch 31/100\n",
            "94/94 - 0s - loss: 0.4677 - accuracy: 0.0106\n",
            "Epoch 32/100\n",
            "94/94 - 0s - loss: 0.4678 - accuracy: 0.0106\n",
            "Epoch 33/100\n",
            "94/94 - 0s - loss: 0.4677 - accuracy: 0.0106\n",
            "Epoch 34/100\n",
            "94/94 - 0s - loss: 0.4679 - accuracy: 0.0106\n",
            "Epoch 35/100\n",
            "94/94 - 0s - loss: 0.4676 - accuracy: 0.0106\n",
            "Epoch 36/100\n",
            "94/94 - 0s - loss: 0.4676 - accuracy: 0.0106\n",
            "Epoch 37/100\n",
            "94/94 - 0s - loss: 0.4675 - accuracy: 0.0106\n",
            "Epoch 38/100\n",
            "94/94 - 0s - loss: 0.4674 - accuracy: 0.0106\n",
            "Epoch 39/100\n",
            "94/94 - 0s - loss: 0.4674 - accuracy: 0.0106\n",
            "Epoch 40/100\n",
            "94/94 - 0s - loss: 0.4673 - accuracy: 0.0106\n",
            "Epoch 41/100\n",
            "94/94 - 0s - loss: 0.4673 - accuracy: 0.0106\n",
            "Epoch 42/100\n",
            "94/94 - 0s - loss: 0.4673 - accuracy: 0.0106\n",
            "Epoch 43/100\n",
            "94/94 - 0s - loss: 0.4673 - accuracy: 0.0106\n",
            "Epoch 44/100\n",
            "94/94 - 0s - loss: 0.4673 - accuracy: 0.0106\n",
            "Epoch 45/100\n",
            "94/94 - 0s - loss: 0.4671 - accuracy: 0.0106\n",
            "Epoch 46/100\n",
            "94/94 - 0s - loss: 0.4672 - accuracy: 0.0106\n",
            "Epoch 47/100\n",
            "94/94 - 0s - loss: 0.4670 - accuracy: 0.0106\n",
            "Epoch 48/100\n",
            "94/94 - 0s - loss: 0.4670 - accuracy: 0.0106\n",
            "Epoch 49/100\n",
            "94/94 - 0s - loss: 0.4672 - accuracy: 0.0106\n",
            "Epoch 50/100\n",
            "94/94 - 0s - loss: 0.4669 - accuracy: 0.0106\n",
            "Epoch 51/100\n",
            "94/94 - 0s - loss: 0.4672 - accuracy: 0.0106\n",
            "Epoch 52/100\n",
            "94/94 - 0s - loss: 0.4668 - accuracy: 0.0106\n",
            "Epoch 53/100\n",
            "94/94 - 0s - loss: 0.4669 - accuracy: 0.0106\n",
            "Epoch 54/100\n",
            "94/94 - 0s - loss: 0.4669 - accuracy: 0.0106\n",
            "Epoch 55/100\n",
            "94/94 - 0s - loss: 0.4668 - accuracy: 0.0106\n",
            "Epoch 56/100\n",
            "94/94 - 0s - loss: 0.4668 - accuracy: 0.0106\n",
            "Epoch 57/100\n",
            "94/94 - 0s - loss: 0.4671 - accuracy: 0.0106\n",
            "Epoch 58/100\n",
            "94/94 - 0s - loss: 0.4666 - accuracy: 0.0106\n",
            "Epoch 59/100\n",
            "94/94 - 0s - loss: 0.4666 - accuracy: 0.0106\n",
            "Epoch 60/100\n",
            "94/94 - 0s - loss: 0.4667 - accuracy: 0.0106\n",
            "Epoch 61/100\n",
            "94/94 - 0s - loss: 0.4668 - accuracy: 0.0106\n",
            "Epoch 62/100\n",
            "94/94 - 0s - loss: 0.4666 - accuracy: 0.0106\n",
            "Epoch 63/100\n",
            "94/94 - 0s - loss: 0.4665 - accuracy: 0.0106\n",
            "Epoch 64/100\n",
            "94/94 - 0s - loss: 0.4665 - accuracy: 0.0106\n",
            "Epoch 65/100\n",
            "94/94 - 0s - loss: 0.4665 - accuracy: 0.0106\n",
            "Epoch 66/100\n",
            "94/94 - 0s - loss: 0.4666 - accuracy: 0.0106\n",
            "Epoch 67/100\n",
            "94/94 - 0s - loss: 0.4665 - accuracy: 0.0106\n",
            "Epoch 68/100\n",
            "94/94 - 0s - loss: 0.4664 - accuracy: 0.0106\n",
            "Epoch 69/100\n",
            "94/94 - 0s - loss: 0.4663 - accuracy: 0.0106\n",
            "Epoch 70/100\n",
            "94/94 - 0s - loss: 0.4666 - accuracy: 0.0106\n",
            "Epoch 71/100\n",
            "94/94 - 0s - loss: 0.4665 - accuracy: 0.0106\n",
            "Epoch 72/100\n",
            "94/94 - 0s - loss: 0.4662 - accuracy: 0.0106\n",
            "Epoch 73/100\n",
            "94/94 - 0s - loss: 0.4663 - accuracy: 0.0106\n",
            "Epoch 74/100\n",
            "94/94 - 0s - loss: 0.4662 - accuracy: 0.0106\n",
            "Epoch 75/100\n",
            "94/94 - 0s - loss: 0.4662 - accuracy: 0.0106\n",
            "Epoch 76/100\n",
            "94/94 - 0s - loss: 0.4662 - accuracy: 0.0106\n",
            "Epoch 77/100\n",
            "94/94 - 0s - loss: 0.4662 - accuracy: 0.0106\n",
            "Epoch 78/100\n",
            "94/94 - 0s - loss: 0.4661 - accuracy: 0.0106\n",
            "Epoch 79/100\n",
            "94/94 - 0s - loss: 0.4660 - accuracy: 0.0106\n",
            "Epoch 80/100\n",
            "94/94 - 0s - loss: 0.4661 - accuracy: 0.0106\n",
            "Epoch 81/100\n",
            "94/94 - 0s - loss: 0.4660 - accuracy: 0.0106\n",
            "Epoch 82/100\n",
            "94/94 - 0s - loss: 0.4660 - accuracy: 0.0106\n",
            "Epoch 83/100\n",
            "94/94 - 0s - loss: 0.4661 - accuracy: 0.0106\n",
            "Epoch 84/100\n",
            "94/94 - 0s - loss: 0.4660 - accuracy: 0.0106\n",
            "Epoch 85/100\n",
            "94/94 - 0s - loss: 0.4659 - accuracy: 0.0106\n",
            "Epoch 86/100\n",
            "94/94 - 0s - loss: 0.4659 - accuracy: 0.0106\n",
            "Epoch 87/100\n",
            "94/94 - 0s - loss: 0.4658 - accuracy: 0.0106\n",
            "Epoch 88/100\n",
            "94/94 - 0s - loss: 0.4660 - accuracy: 0.0106\n",
            "Epoch 89/100\n",
            "94/94 - 0s - loss: 0.4659 - accuracy: 0.0106\n",
            "Epoch 90/100\n",
            "94/94 - 0s - loss: 0.4660 - accuracy: 0.0106\n",
            "Epoch 91/100\n",
            "94/94 - 0s - loss: 0.4660 - accuracy: 0.0106\n",
            "Epoch 92/100\n",
            "94/94 - 0s - loss: 0.4656 - accuracy: 0.0106\n",
            "Epoch 93/100\n",
            "94/94 - 0s - loss: 0.4661 - accuracy: 0.0106\n",
            "Epoch 94/100\n",
            "94/94 - 0s - loss: 0.4658 - accuracy: 0.0106\n",
            "Epoch 95/100\n",
            "94/94 - 0s - loss: 0.4657 - accuracy: 0.0106\n",
            "Epoch 96/100\n",
            "94/94 - 0s - loss: 0.4657 - accuracy: 0.0106\n",
            "Epoch 97/100\n",
            "94/94 - 0s - loss: 0.4656 - accuracy: 0.0106\n",
            "Epoch 98/100\n",
            "94/94 - 0s - loss: 0.4657 - accuracy: 0.0106\n",
            "Epoch 99/100\n",
            "94/94 - 0s - loss: 0.4659 - accuracy: 0.0106\n",
            "Epoch 100/100\n",
            "94/94 - 0s - loss: 0.4657 - accuracy: 0.0106\n",
            "Train Score: 23.98 RMSE\n",
            "Test Score: 63.33 RMSE\n"
          ],
          "name": "stdout"
        },
        {
          "output_type": "display_data",
          "data": {
            "image/png": "[encoded data removed]",
            "text/plain": [
              "<Figure size 432x288 with 1 Axes>"
            ]
          },
          "metadata": {
            "tags": [],
            "needs_background": "light"
          }
        }
      ]
    },
    {
      "cell_type": "code",
      "metadata": {
        "id": "zohhBhI150fX"
      },
      "source": [
        ""
      ],
      "execution_count": null,
      "outputs": []
    }
  ]
}