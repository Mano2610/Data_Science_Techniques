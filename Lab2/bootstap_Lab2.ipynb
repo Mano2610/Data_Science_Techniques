{
  "nbformat": 4,
  "nbformat_minor": 0,
  "metadata": {
    "colab": {
      "name": "Lab2.ipynb",
      "provenance": [],
      "collapsed_sections": [],
      "include_colab_link": true
    },
    "kernelspec": {
      "display_name": "Python 3",
      "language": "python",
      "name": "python3"
    },
    "language_info": {
      "codemirror_mode": {
        "name": "ipython",
        "version": 3
      },
      "file_extension": ".py",
      "mimetype": "text/x-python",
      "name": "python",
      "nbconvert_exporter": "python",
      "pygments_lexer": "ipython3",
      "version": "3.7.6"
    },
    "pycharm": {
      "stem_cell": {
        "cell_type": "raw",
        "metadata": {
          "collapsed": false
        },
        "source": []
      }
    }
  },
  "cells": [
    {
      "cell_type": "markdown",
      "metadata": {
        "id": "view-in-github",
        "colab_type": "text"
      },
      "source": [
        "<a href=\"https://colab.research.google.com/github/Mano2610/CE888/blob/main/Lab/Lab2/bootstap_Lab2.ipynb\" target=\"_parent\"><img src=\"https://colab.research.google.com/assets/colab-badge.svg\" alt=\"Open In Colab\"/></a>"
      ]
    },
    {
      "cell_type": "markdown",
      "metadata": {
        "id": "nCi_99yMYIb1"
      },
      "source": [
        "In this notebook you'll create your own bootstrap function following the bootstrap algorithm (check the lecture notes!)"
      ]
    },
    {
      "cell_type": "code",
      "metadata": {
        "id": "LY5zujI2YC37",
        "pycharm": {
          "name": "#%%# Imports\n"
        }
      },
      "source": [
        "import matplotlib\n",
        "import pandas as pd\n",
        "import seaborn as sns\n",
        "import numpy as np\n",
        "\n"
      ],
      "execution_count": 1,
      "outputs": []
    },
    {
      "cell_type": "code",
      "metadata": {
        "id": "Eqkwj4SMY38t"
      },
      "source": [
        "# Load the data\n",
        "df = pd.read_csv('https://raw.githubusercontent.com/albanda/CE888/master/lab2%20-%20bootstrap/customers.csv')\n",
        "data = df.values.T[1]"
      ],
      "execution_count": 2,
      "outputs": []
    },
    {
      "cell_type": "code",
      "metadata": {
        "id": "Gxvc_bScYC4H",
        "pycharm": {
          "name": "#%%\n"
        }
      },
      "source": [
        "# Checking the notes from the lecture, create here your own bootstrap function:\n",
        "# 1. Sample from the input array x to create an array of samples of shape (n_bootstraps, sample_size)\n",
        "# Hint: Check the function random.choice() on Numpy\n",
        "# 2. Calculate and save the mean of the array (this is \"data_mean\" that is returned by the function)\n",
        "# 3. Calculate the mean from each bootstrap (i.e., row) and store it.\n",
        "# (This should be an array of n_bootstraps values)\n",
        "# 4. Calculate the lower and upper bounds for a 95% CI (hint: check the percentile function on Numpy)\n",
        "# 5. Return data_mean, and the lower and upper bounds of your interval\n",
        "def bootstrap_mean(x, sample_size, n_bootstraps):\n",
        "  array_of_samples = [np.random.choice(x, sample_size) for _ in range(n_bootstraps)]\n",
        "  data_mean = np.mean(x)\n",
        "  sample_means = [np.mean(s) for s in array_of_samples]\n",
        "\n",
        "  CI = 95\n",
        "  diff = (100 - CI) / 2\n",
        "  lower_bound = np.percentile(sample_means, diff)\n",
        "  upper_bound = np.percentile(sample_means, 100 - diff)\n",
        "\n",
        "  return data_mean,lower_bound,upper_bound"
      ],
      "execution_count": 3,
      "outputs": []
    },
    {
      "cell_type": "code",
      "metadata": {
        "id": "AN7sEOcMYC4P",
        "pycharm": {
          "name": "#%%\n"
        },
        "colab": {
          "base_uri": "https://localhost:8080/",
          "height": 451
        },
        "outputId": "0a18cce2-eb48-4157-909a-25041e8eec40"
      },
      "source": [
        "# Call your bootstrap function and plot the results\n",
        "\n",
        "boots = []\n",
        "for i in range(100, 50000, 1000):\n",
        "    boot = bootstrap_mean(data, data.shape[0], i)\n",
        "    boots.append([i, boot[0], \"mean\"])\n",
        "    boots.append([i, boot[1], \"lower\"])\n",
        "    boots.append([i, boot[2], \"upper\"])\n",
        "\n",
        "df_boot = pd.DataFrame(boots, columns=['Bootstrap Iterations', 'Mean', \"Value\"])\n",
        "sns_plot = sns.lmplot(df_boot.columns[0], df_boot.columns[1], data=df_boot, fit_reg=False, hue=\"Value\")\n",
        "\n",
        "sns_plot.axes[0, 0].set_ylim(0,)\n",
        "sns_plot.axes[0, 0].set_xlim(0, 50000)\n"
      ],
      "execution_count": 4,
      "outputs": [
        {
          "output_type": "stream",
          "text": [
            "/usr/local/lib/python3.7/dist-packages/seaborn/_decorators.py:43: FutureWarning: Pass the following variables as keyword args: x, y. From version 0.12, the only valid positional argument will be `data`, and passing other arguments without an explicit keyword will result in an error or misinterpretation.\n",
            "  FutureWarning\n"
          ],
          "name": "stderr"
        },
        {
          "output_type": "execute_result",
          "data": {
            "text/plain": [
              "(0.0, 50000.0)"
            ]
          },
          "metadata": {
            "tags": []
          },
          "execution_count": 4
        },
        {
          "output_type": "display_data",
          "data": {
            "image/png": "[encoded data removed]",
            "text/plain": [
              "<Figure size 425.125x360 with 1 Axes>"
            ]
          },
          "metadata": {
            "tags": [],
            "needs_background": "light"
          }
        }
      ]
    },
    {
      "cell_type": "markdown",
      "metadata": {
        "id": "MjtP4e2_YC4V"
      },
      "source": [
        "\n",
        "Now, modify the bootstrap function you created above so that you can pass your desired confidence interval as a parameter.\n",
        "\n"
      ]
    },
    {
      "cell_type": "code",
      "metadata": {
        "id": "3K9j0FuGYhHs"
      },
      "source": [
        "def bootstrap_mean_ci(sample, sample_size, n_bootstraps, ci):\n",
        "  array_of_samples = [np.random.choice(sample, sample_size) for _ in range(n_bootstraps)]\n",
        "  data_mean = np.mean(sample)\n",
        "  sample_means = [np.mean(s) for s in array_of_samples]\n",
        "\n",
        "  \n",
        "  diff = (100 - ci) / 2\n",
        "  lower_bound = np.percentile(sample_means, diff)\n",
        "  upper_bound = np.percentile(sample_means, 100 - diff)\n",
        "  return data_mean,lower_bound,upper_bound"
      ],
      "execution_count": 5,
      "outputs": []
    },
    {
      "cell_type": "code",
      "metadata": {
        "id": "uDnjq08GYl-C",
        "colab": {
          "base_uri": "https://localhost:8080/",
          "height": 454
        },
        "outputId": "cd04714e-4116-42db-e811-02a139fc2de6"
      },
      "source": [
        "boots = []\n",
        "for i in range(100, 50000, 1000):\n",
        "    boot = bootstrap_mean_ci(data, data.shape[0], i, 80)\n",
        "    boots.append([i, boot[0],\"mean\"])\n",
        "    boots.append([i, boot[1],\"lower\"])\n",
        "    boots.append([i, boot[2],\"upper\"])\n",
        "\n",
        "df_boot = pd.DataFrame(boots, columns=['Boostrap Iterations', 'Mean', \"Value\"])\n",
        "sns_plot = sns.lmplot(df_boot.columns[0], df_boot.columns[1], data=df_boot, fit_reg=False, hue=\"Value\")\n",
        "\n",
        "sns_plot.axes[0, 0].set_ylim(0,)\n",
        "sns_plot.axes[0, 0].set_xlim(0, 100000)\n",
        "\n",
        "#sns_plot.savefig(\"bootstrap_confidence_80.pdf\", bbox_inches='tight')\n"
      ],
      "execution_count": 6,
      "outputs": [
        {
          "output_type": "stream",
          "text": [
            "/usr/local/lib/python3.7/dist-packages/seaborn/_decorators.py:43: FutureWarning: Pass the following variables as keyword args: x, y. From version 0.12, the only valid positional argument will be `data`, and passing other arguments without an explicit keyword will result in an error or misinterpretation.\n",
            "  FutureWarning\n"
          ],
          "name": "stderr"
        },
        {
          "output_type": "execute_result",
          "data": {
            "text/plain": [
              "(0.0, 100000.0)"
            ]
          },
          "metadata": {
            "tags": []
          },
          "execution_count": 6
        },
        {
          "output_type": "display_data",
          "data": {
            "image/png": "[encoded data removed]",
            "text/plain": [
              "<Figure size 425.125x360 with 1 Axes>"
            ]
          },
          "metadata": {
            "tags": [],
            "needs_background": "light"
          }
        }
      ]
    },
    {
      "cell_type": "markdown",
      "metadata": {
        "id": "qjNgXW6wdd7r"
      },
      "source": [
        "# Vehicles dataset\n",
        "\n",
        "Now let's work on a different dataset, which is stored in the vehicles.csv file.\n"
      ]
    },
    {
      "cell_type": "code",
      "metadata": {
        "id": "avWv4ipFdpka",
        "colab": {
          "base_uri": "https://localhost:8080/",
          "height": 195
        },
        "outputId": "a4552571-0d92-4f21-a96a-38e39eee16e2"
      },
      "source": [
        "# Load and visualise the vehicles dataset\n",
        "# To load the dataset: https://neptune.ai/blog/google-colab-dealing-with-files (check section \"Load individual files directly from GitHub\")\n",
        "\n",
        "\n",
        "# Note that the current and new fleets are in different columns and have different lengths, so bear this in mind when you're plotting.\n",
        "# You can create separate scatterplots for the two fleets, as you would with the histograms, \n",
        "# or plot them both in one plot (but not one against the other).\n",
        "\n",
        "df_vehicle = pd.read_csv(\"https://raw.githubusercontent.com/albanda/CE888/master/lab2%20-%20bootstrap/vehicles.csv\")\n",
        "\n",
        "# Note: you can add more cells as needed to organise your code and your plots\n",
        "\n",
        "df_vehicle.head(5)"
      ],
      "execution_count": 7,
      "outputs": [
        {
          "output_type": "execute_result",
          "data": {
            "text/html": [
              "<div>\n",
              "<style scoped>\n",
              "    .dataframe tbody tr th:only-of-type {\n",
              "        vertical-align: middle;\n",
              "    }\n",
              "\n",
              "    .dataframe tbody tr th {\n",
              "        vertical-align: top;\n",
              "    }\n",
              "\n",
              "    .dataframe thead th {\n",
              "        text-align: right;\n",
              "    }\n",
              "</style>\n",
              "<table border=\"1\" class=\"dataframe\">\n",
              "  <thead>\n",
              "    <tr style=\"text-align: right;\">\n",
              "      <th></th>\n",
              "      <th>Current fleet</th>\n",
              "      <th>New Fleet</th>\n",
              "    </tr>\n",
              "  </thead>\n",
              "  <tbody>\n",
              "    <tr>\n",
              "      <th>0</th>\n",
              "      <td>18</td>\n",
              "      <td>24.0</td>\n",
              "    </tr>\n",
              "    <tr>\n",
              "      <th>1</th>\n",
              "      <td>15</td>\n",
              "      <td>27.0</td>\n",
              "    </tr>\n",
              "    <tr>\n",
              "      <th>2</th>\n",
              "      <td>18</td>\n",
              "      <td>27.0</td>\n",
              "    </tr>\n",
              "    <tr>\n",
              "      <th>3</th>\n",
              "      <td>16</td>\n",
              "      <td>25.0</td>\n",
              "    </tr>\n",
              "    <tr>\n",
              "      <th>4</th>\n",
              "      <td>17</td>\n",
              "      <td>31.0</td>\n",
              "    </tr>\n",
              "  </tbody>\n",
              "</table>\n",
              "</div>"
            ],
            "text/plain": [
              "   Current fleet  New Fleet\n",
              "0             18       24.0\n",
              "1             15       27.0\n",
              "2             18       27.0\n",
              "3             16       25.0\n",
              "4             17       31.0"
            ]
          },
          "metadata": {
            "tags": []
          },
          "execution_count": 7
        }
      ]
    },
    {
      "cell_type": "code",
      "metadata": {
        "id": "DIc4GY3HNPof",
        "colab": {
          "base_uri": "https://localhost:8080/"
        },
        "outputId": "542f843d-3281-4ec4-8ed2-b889c5f8bd3a"
      },
      "source": [
        "df_vehicle.info()"
      ],
      "execution_count": 8,
      "outputs": [
        {
          "output_type": "stream",
          "text": [
            "<class 'pandas.core.frame.DataFrame'>\n",
            "RangeIndex: 249 entries, 0 to 248\n",
            "Data columns (total 2 columns):\n",
            " #   Column         Non-Null Count  Dtype  \n",
            "---  ------         --------------  -----  \n",
            " 0   Current fleet  249 non-null    int64  \n",
            " 1   New Fleet      79 non-null     float64\n",
            "dtypes: float64(1), int64(1)\n",
            "memory usage: 4.0 KB\n"
          ],
          "name": "stdout"
        }
      ]
    },
    {
      "cell_type": "code",
      "metadata": {
        "id": "kMkvf5uwYV5J"
      },
      "source": [
        "df_vehicle.reset_index(inplace=True)"
      ],
      "execution_count": 9,
      "outputs": []
    },
    {
      "cell_type": "code",
      "metadata": {
        "id": "QP-VqHQzS-uH",
        "colab": {
          "base_uri": "https://localhost:8080/"
        },
        "outputId": "0c294f2d-bc0b-4c5d-9be5-ff118fae49ec"
      },
      "source": [
        "df_vehicle.columns"
      ],
      "execution_count": 10,
      "outputs": [
        {
          "output_type": "execute_result",
          "data": {
            "text/plain": [
              "Index(['index', 'Current fleet', 'New Fleet'], dtype='object')"
            ]
          },
          "metadata": {
            "tags": []
          },
          "execution_count": 10
        }
      ]
    },
    {
      "cell_type": "code",
      "metadata": {
        "id": "VgR_TZ2LLrA0"
      },
      "source": [
        "current_fleet = df_vehicle[\"Current fleet\"]\n",
        "new_fleet = df_vehicle[\"New Fleet\"].dropna()"
      ],
      "execution_count": 11,
      "outputs": []
    },
    {
      "cell_type": "code",
      "metadata": {
        "id": "L5yoHEsncCks"
      },
      "source": [
        "df_vehicle['new_len'] = list(range(len(new_fleet))) + [np.nan for _ in range(len(df_vehicle) - len(new_fleet))]"
      ],
      "execution_count": 12,
      "outputs": []
    },
    {
      "cell_type": "code",
      "metadata": {
        "id": "nr4a_zudMJ3p",
        "colab": {
          "base_uri": "https://localhost:8080/",
          "height": 454
        },
        "outputId": "e73b8a2f-e8cc-43f5-d761-5429471dd0a0"
      },
      "source": [
        "sns.lmplot(\"index\",\"Current fleet\", data = df_vehicle, fit_reg=True)"
      ],
      "execution_count": 13,
      "outputs": [
        {
          "output_type": "stream",
          "text": [
            "/usr/local/lib/python3.7/dist-packages/seaborn/_decorators.py:43: FutureWarning: Pass the following variables as keyword args: x, y. From version 0.12, the only valid positional argument will be `data`, and passing other arguments without an explicit keyword will result in an error or misinterpretation.\n",
            "  FutureWarning\n"
          ],
          "name": "stderr"
        },
        {
          "output_type": "execute_result",
          "data": {
            "text/plain": [
              "<seaborn.axisgrid.FacetGrid at 0x7feda0be9210>"
            ]
          },
          "metadata": {
            "tags": []
          },
          "execution_count": 13
        },
        {
          "output_type": "display_data",
          "data": {
            "image/png": "[encoded data removed]",
            "text/plain": [
              "<Figure size 360x360 with 1 Axes>"
            ]
          },
          "metadata": {
            "tags": [],
            "needs_background": "light"
          }
        }
      ]
    },
    {
      "cell_type": "code",
      "metadata": {
        "id": "RxzNIsqXTx1W",
        "colab": {
          "base_uri": "https://localhost:8080/",
          "height": 454
        },
        "outputId": "df9e12f2-6354-4b1a-ef9f-5f9afbcfca55"
      },
      "source": [
        "sns.lmplot(\"new_len\",\"New Fleet\", data = df_vehicle, fit_reg=True)"
      ],
      "execution_count": 14,
      "outputs": [
        {
          "output_type": "stream",
          "text": [
            "/usr/local/lib/python3.7/dist-packages/seaborn/_decorators.py:43: FutureWarning: Pass the following variables as keyword args: x, y. From version 0.12, the only valid positional argument will be `data`, and passing other arguments without an explicit keyword will result in an error or misinterpretation.\n",
            "  FutureWarning\n"
          ],
          "name": "stderr"
        },
        {
          "output_type": "execute_result",
          "data": {
            "text/plain": [
              "<seaborn.axisgrid.FacetGrid at 0x7feda0bb2250>"
            ]
          },
          "metadata": {
            "tags": []
          },
          "execution_count": 14
        },
        {
          "output_type": "display_data",
          "data": {
            "image/png": "[encoded data removed]",
            "text/plain": [
              "<Figure size 360x360 with 1 Axes>"
            ]
          },
          "metadata": {
            "tags": [],
            "needs_background": "light"
          }
        }
      ]
    },
    {
      "cell_type": "markdown",
      "metadata": {
        "id": "B5d0tXDpIEj8"
      },
      "source": [
        "## Compare the two fleets\n",
        "\n",
        "The business analysts come up a comparison algorithm that requires the upper and lower bounds for the mean in order to say which fleet is better.\n",
        "1. Calculate the mean of both samples.\n",
        "2. Using the bootstrap function that you created:\n",
        "    - Construct the 95% CI of the mean of the current fleet.\n",
        "    - Construct the 95% CI of the mean of the new fleet.\n",
        "    - Are they comparable? (i.e., is one better than the other?) -- you can do this with a permutation test (check the lecture notes!)"
      ]
    },
    {
      "cell_type": "code",
      "metadata": {
        "id": "po4mp6zRHC0m",
        "colab": {
          "base_uri": "https://localhost:8080/"
        },
        "outputId": "e3700558-113a-41c2-f7a7-3ceb53464a7e"
      },
      "source": [
        "current_fleet_mean = np.mean(current_fleet)\n",
        "curent_boot_mean, current_lower, current_upper = bootstrap_mean_ci(current_fleet, current_fleet.shape[0], 10000, 95)\n",
        "print('Current Fleet:')\n",
        "print(f'Mean: {current_fleet_mean}, Lower: {current_lower}, Upper: {current_upper}')\n",
        "\n",
        "new_fleet_mean = np.mean(new_fleet)\n",
        "new_boot_mean, new_lower, new_upper = bootstrap_mean_ci(new_fleet, new_fleet.shape[0], 10000, 95)\n",
        "\n",
        "print('\\nNew Fleet:')\n",
        "print(f'Mean: {new_fleet_mean}, Lower: {new_lower}, Upper: {new_upper}')"
      ],
      "execution_count": 15,
      "outputs": [
        {
          "output_type": "stream",
          "text": [
            "Current Fleet:\n",
            "Mean: 20.14457831325301, Lower: 19.365461847389557, Upper: 20.951807228915662\n",
            "\n",
            "New Fleet:\n",
            "Mean: 30.481012658227847, Lower: 29.164556962025316, Upper: 31.82278481012658\n"
          ],
          "name": "stdout"
        }
      ]
    },
    {
      "cell_type": "code",
      "metadata": {
        "id": "MkxvDZG4HC0n"
      },
      "source": [
        "# Create your own function for a permutation test here (you will need it for the lab quiz!):\n",
        "def permut_test(sample1, sample2, n_permutations):\n",
        "    \"\"\"\n",
        "    sample1: 1D array\n",
        "    sample2: 1D array (note that the size of the two arrays can be different)\n",
        "    n_permutations: number of permutations to calculate the p-value\n",
        "    \"\"\"\n",
        " \n",
        "    samp_mean = np.mean(sample2) - np.mean(sample1)\n",
        "    concat = np.concatenate((sample1, sample2))\n",
        "\n",
        "    count = 0\n",
        "\n",
        "    for _ in range(n_permutations):\n",
        "      permut = np.random.permutation(concat)\n",
        "\n",
        "      p1 = permut[:len(sample1)]\n",
        "      p2 = permut[len(sample1):]\n",
        "\n",
        "      permut_mean = np.mean(p2) - np.mean(p1)\n",
        "\n",
        "      if permut_mean > samp_mean:\n",
        "        count += 1\n",
        "\n",
        "    pvalue = count / n_permutations \n",
        "\n",
        "    return pvalue"
      ],
      "execution_count": 16,
      "outputs": []
    },
    {
      "cell_type": "code",
      "metadata": {
        "id": "qyvpzfYzfxxE",
        "colab": {
          "base_uri": "https://localhost:8080/"
        },
        "outputId": "21c21050-f2e9-4eb6-a5e8-7ec11bd684fa"
      },
      "source": [
        "sample1 = np.array([0, 0, 0, 0, 0, 0, 1, 0, 0, 1, 0])\n",
        "sample2 = np.array([1, 0, 0, 1, 1, 1, 0, 0, 0, 1, 0])\n",
        "\n",
        "permut_test(sample1, sample2, 20000)"
      ],
      "execution_count": 17,
      "outputs": [
        {
          "output_type": "execute_result",
          "data": {
            "text/plain": [
              "0.03345"
            ]
          },
          "metadata": {
            "tags": []
          },
          "execution_count": 17
        }
      ]
    },
    {
      "cell_type": "markdown",
      "metadata": {
        "id": "UTadRNRTnl7K"
      },
      "source": [
        "# QUIZ"
      ]
    },
    {
      "cell_type": "code",
      "metadata": {
        "id": "HeTbKgi_447x",
        "colab": {
          "base_uri": "https://localhost:8080/"
        },
        "outputId": "ce8f88ee-8ff1-4f38-b0c2-f386057d62f1"
      },
      "source": [
        "new_boot_mean, new_lower, new_upper = bootstrap_mean_ci(new_fleet, new_fleet.shape[0], 10000, 95)\n",
        "\n",
        "print('\\nNew Fleet:')\n",
        "print(f'Mean: {new_fleet_mean}, Lower: {new_lower}, Upper: {new_upper}')"
      ],
      "execution_count": 42,
      "outputs": [
        {
          "output_type": "stream",
          "text": [
            "\n",
            "New Fleet:\n",
            "Mean: 30.481012658227847, Lower: 29.138924050632912, Upper: 31.835443037974684\n"
          ],
          "name": "stdout"
        }
      ]
    },
    {
      "cell_type": "code",
      "metadata": {
        "colab": {
          "base_uri": "https://localhost:8080/"
        },
        "id": "Mb9SCc4Cow9S",
        "outputId": "e3e27401-d317-4b1b-8a2d-44fc130d2044"
      },
      "source": [
        "curent_boot_mean, current_lower, current_upper = bootstrap_mean_ci(current_fleet, current_fleet.shape[0], 10000, 92)\n",
        "print('Current Fleet:')\n",
        "print(f'Mean: {current_fleet_mean}, Lower: {current_lower}, Upper: {current_upper}')"
      ],
      "execution_count": 41,
      "outputs": [
        {
          "output_type": "stream",
          "text": [
            "Current Fleet:\n",
            "Mean: 20.14457831325301, Lower: 19.449799196787147, Upper: 20.863453815261042\n"
          ],
          "name": "stdout"
        }
      ]
    },
    {
      "cell_type": "code",
      "metadata": {
        "id": "exZnNUoOpMfC"
      },
      "source": [
        "def bootstrap_std(x, sample_size, n_bootstraps, ci):\n",
        "  bootstraps = [np.random.choice(x, sample_size) for _ in range(n_bootstraps)]\n",
        "  data_std = np.std(x)\n",
        "  stds = [np.std(row) for row in bootstraps]\n",
        "\n",
        "  half_ci = (100 - ci) / 2\n",
        "  lower = np.percentile(stds, half_ci)\n",
        "  upper = np.percentile(stds, 100 - half_ci)\n",
        "\n",
        "  return data_std, lower, upper"
      ],
      "execution_count": 27,
      "outputs": []
    },
    {
      "cell_type": "code",
      "metadata": {
        "colab": {
          "base_uri": "https://localhost:8080/"
        },
        "id": "L02oMT7wpr5f",
        "outputId": "d420bc9f-3e1b-44d7-877c-4805f8defad3"
      },
      "source": [
        "current_fleet_std = np.std(current_fleet)\n",
        "current_boot_std, new_lower, new_upper = bootstrap_std(current_fleet, current_fleet.shape[0], 10000, 95)\n",
        "\n",
        "print('\\ncurrent Fleet:')\n",
        "print(f'Std: {current_fleet_std}, Lower: {new_lower}, Upper: {new_upper}')"
      ],
      "execution_count": 44,
      "outputs": [
        {
          "output_type": "stream",
          "text": [
            "\n",
            "current Fleet:\n",
            "Std: 6.401805462179708, Lower: 5.808646306703949, Upper: 6.928953674385309\n"
          ],
          "name": "stdout"
        }
      ]
    },
    {
      "cell_type": "code",
      "metadata": {
        "colab": {
          "base_uri": "https://localhost:8080/"
        },
        "id": "ENpBjsC4p9Rq",
        "outputId": "f43e7de5-83da-4daa-ccae-7816e741d294"
      },
      "source": [
        "current_fleet_std = np.std(data)\n",
        "curent_boot_mean, current_lower, current_upper = bootstrap_std(data, data.shape[0], 10000, 95)\n",
        "print('Current Fleet:')\n",
        "print(f'Std: {current_fleet_std}, Lower: {current_lower}, Upper: {current_upper}')"
      ],
      "execution_count": 43,
      "outputs": [
        {
          "output_type": "stream",
          "text": [
            "Current Fleet:\n",
            "Std: 5.684296305594556, Lower: 2.7114411746750005, Upper: 7.372046277907646\n"
          ],
          "name": "stdout"
        }
      ]
    },
    {
      "cell_type": "code",
      "metadata": {
        "colab": {
          "base_uri": "https://localhost:8080/"
        },
        "id": "edJlaI2IrP3h",
        "outputId": "ed7e9df7-369e-4fa5-eef1-c75452c35312"
      },
      "source": [
        "permut_test(current_fleet, new_fleet, 30000)"
      ],
      "execution_count": 32,
      "outputs": [
        {
          "output_type": "execute_result",
          "data": {
            "text/plain": [
              "0.0"
            ]
          },
          "metadata": {
            "tags": []
          },
          "execution_count": 32
        }
      ]
    },
    {
      "cell_type": "code",
      "metadata": {
        "id": "i6p93V3AsfMk"
      },
      "source": [
        "dem_share_PA = [60.08, 40.64, 36.07, 41.21, 31.04, 43.78, 44.08, 46.85, 44.71, 46.15, 63.10, 52.20, 43.18, 40.24, 39.92, 47.87, 37.77, 40.11, 49.85, 48.61, 38.62, 54.25, 34.84, 47.75, 43.82, 55.97, 58.23, 42.97, 42.38, 36.11, 37.53, 42.65, 50.96, 47.43, 56.24, 45.60, 46.39, 35.22, 48.56, 32.97, 57.88, 36.05, 37.72, 50.36, 32.12, 41.55, 54.66, 57.81, 54.58, 32.88, 54.37, 40.45, 47.61, 60.49, 43.11, 27.32, 44.03, 33.56, 37.26, 54.64, 43.12, 25.34, 49.79, 83.56, 40.09, 60.81, 49.81]\n",
        "dem_share_OH = [56.94, 50.46, 65.99, 45.88, 42.23, 45.26, 57.01, 53.61, 59.10, 61.48, 43.43, 44.69, 54.59, 48.36, 45.89, 48.62, 43.92, 38.23, 28.79, 63.57, 38.07, 40.18, 43.05, 41.56, 42.49, 36.06, 52.76, 46.07, 39.43, 39.26, 47.47, 27.92, 38.01, 45.45, 29.07, 28.94, 51.28, 50.10, 39.84, 36.43, 35.71, 31.47, 47.01, 40.10, 48.76, 31.56, 39.86, 45.31, 35.47, 51.38, 46.33, 48.73, 41.77, 41.32, 48.46, 53.14, 34.01, 54.74, 40.67, 38.96, 46.29, 38.25, 6.80, 31.75, 46.33, 44.90, 33.57, 38.10, 39.67, 40.47, 49.44, 37.62, 36.71, 46.73, 42.20, 53.16, 52.40, 58.36, 68.02, 38.53, 34.58, 69.64, 60.50, 53.53, 36.54, 49.58, 41.97, 38.11]\n"
      ],
      "execution_count": 33,
      "outputs": []
    },
    {
      "cell_type": "code",
      "metadata": {
        "colab": {
          "base_uri": "https://localhost:8080/"
        },
        "id": "dnJread_tTs-",
        "outputId": "c1d5e4e0-18d2-44ec-f2b4-79a90c69ca86"
      },
      "source": [
        "len(dem_share_PA)"
      ],
      "execution_count": 35,
      "outputs": [
        {
          "output_type": "execute_result",
          "data": {
            "text/plain": [
              "67"
            ]
          },
          "metadata": {
            "tags": []
          },
          "execution_count": 35
        }
      ]
    },
    {
      "cell_type": "code",
      "metadata": {
        "colab": {
          "base_uri": "https://localhost:8080/"
        },
        "id": "dCB44GA7tV7K",
        "outputId": "a46e8511-7fa5-4509-86f8-f59ce88944c9"
      },
      "source": [
        "len(dem_share_OH)"
      ],
      "execution_count": 36,
      "outputs": [
        {
          "output_type": "execute_result",
          "data": {
            "text/plain": [
              "88"
            ]
          },
          "metadata": {
            "tags": []
          },
          "execution_count": 36
        }
      ]
    },
    {
      "cell_type": "code",
      "metadata": {
        "colab": {
          "base_uri": "https://localhost:8080/"
        },
        "id": "z169-rQttbCR",
        "outputId": "95077af4-44c3-4c7d-a77e-6b5927c7305f"
      },
      "source": [
        "oh_mean = np.mean(dem_share_OH)\n",
        "ohh_mean, current_lower, current_upper = bootstrap_mean_ci(dem_share_OH, len(dem_share_OH), 20000, 95)\n",
        "print('OH data:')\n",
        "print(f'Mean: {oh_mean}, Lower: {current_lower}, Upper: {current_upper}')"
      ],
      "execution_count": 45,
      "outputs": [
        {
          "output_type": "stream",
          "text": [
            "OH data:\n",
            "Mean: 44.31818181818182, Lower: 42.29306534090909, Upper: 46.35523011363636\n"
          ],
          "name": "stdout"
        }
      ]
    },
    {
      "cell_type": "code",
      "metadata": {
        "colab": {
          "base_uri": "https://localhost:8080/"
        },
        "id": "z5o3oOXMuNfy",
        "outputId": "161999db-e240-45ce-b7fd-72583b07d5ab"
      },
      "source": [
        "pa_mean = np.mean(dem_share_PA)\n",
        "paa_mean, current_lower, current_upper = bootstrap_mean_ci(dem_share_PA, len(dem_share_PA), 20000, 95)\n",
        "print('PA data:')\n",
        "print(f'Mean: {pa_mean}, Lower: {current_lower}, Upper: {current_upper}')"
      ],
      "execution_count": 46,
      "outputs": [
        {
          "output_type": "stream",
          "text": [
            "PA data:\n",
            "Mean: 45.476417910447765, Lower: 43.187589552238805, Upper: 47.84769776119402\n"
          ],
          "name": "stdout"
        }
      ]
    },
    {
      "cell_type": "code",
      "metadata": {
        "colab": {
          "base_uri": "https://localhost:8080/"
        },
        "id": "e5SZzUk5uj-T",
        "outputId": "04c7947e-0f44-4dd4-dfc5-7a055fce6fcf"
      },
      "source": [
        "permut_test(dem_share_OH, dem_share_PA, 10000)"
      ],
      "execution_count": 47,
      "outputs": [
        {
          "output_type": "execute_result",
          "data": {
            "text/plain": [
              "0.234"
            ]
          },
          "metadata": {
            "tags": []
          },
          "execution_count": 47
        }
      ]
    },
    {
      "cell_type": "code",
      "metadata": {
        "id": "YrPI6udZuwB_"
      },
      "source": [
        ""
      ],
      "execution_count": null,
      "outputs": []
    }
  ]
}